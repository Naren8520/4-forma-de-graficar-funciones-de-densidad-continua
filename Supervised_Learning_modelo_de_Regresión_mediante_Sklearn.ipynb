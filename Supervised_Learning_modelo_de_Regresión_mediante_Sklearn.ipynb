{
  "nbformat": 4,
  "nbformat_minor": 0,
  "metadata": {
    "kernelspec": {
      "display_name": "Python 3",
      "language": "python",
      "name": "python3"
    },
    "language_info": {
      "codemirror_mode": {
        "name": "ipython",
        "version": 3
      },
      "file_extension": ".py",
      "mimetype": "text/x-python",
      "name": "python",
      "nbconvert_exporter": "python",
      "pygments_lexer": "ipython3",
      "version": "3.8.3"
    },
    "colab": {
      "name": "Supervised Learning modelo de Regresión mediante  Sklearn.ipynb",
      "provenance": [],
      "collapsed_sections": [],
      "include_colab_link": true
    }
  },
  "cells": [
    {
      "cell_type": "markdown",
      "metadata": {
        "id": "view-in-github",
        "colab_type": "text"
      },
      "source": [
        "<a href=\"https://colab.research.google.com/github/Naren8520/4-forma-de-graficar-funciones-de-densidad-continua/blob/master/Supervised_Learning_modelo_de_Regresi%C3%B3n_mediante_Sklearn.ipynb\" target=\"_parent\"><img src=\"https://colab.research.google.com/assets/colab-badge.svg\" alt=\"Open In Colab\"/></a>"
      ]
    },
    {
      "cell_type": "markdown",
      "metadata": {
        "id": "Ci1ocnLEKwIL"
      },
      "source": [
        "# Supervised Learning modelo de Regresión mediante  Sklearn\n",
        "\n",
        "El aprendizaje automático es una rama de la inteligencia artificial que permite a los programas informáticos aprender y mejorar automáticamente a partir de la experiencia. Los algoritmos de aprendizaje automático aprenden de los conjuntos de datos y, luego, basándose en los patrones identificados en los conjuntos de datos, hacen predicciones sobre datos invisibles.\n",
        "\n",
        "Los algoritmos de aprendizaje automático se pueden clasificar principalmente en dos tipos: algoritmos de aprendizaje supervisado y algoritmos de aprendizaje no supervisado.\n",
        "\n",
        "Los algoritmos de aprendizaje automático supervisados son aquellos algoritmos en los que el conjunto de datos de entrada y la salida correspondiente o la predicción verdadera están disponibles, y los algoritmos intentan encontrar la relación entre las entradas y las salidas.\n",
        "\n",
        "Sin embargo, en los algoritmos de aprendizaje automático no supervisados, no se conocen las verdaderas etiquetas de los resultados. Más bien, los algoritmos intentan encontrar patrones similares en los datos. Los algoritmos de agrupación en clústeres son un ejemplo típico de aprendizaje no supervisado.\n",
        "\n",
        "Los algoritmos de aprendizaje supervisado se dividen en dos tipos: algoritmos de regresión y algoritmos de clasificación.\n",
        "\n",
        "Los algoritmos de regresión predicen un valor continuo, por ejemplo, el precio de una casa, la presión arterial de una persona y la puntuación de un estudiante en un examen en particular. Los algoritmos de clasificación, por otro lado, predicen un valor discreto, como si un tumor es maligno o no, si un estudiante va a aprobar o reprobar un examen, etc.\n",
        "\n",
        "En este capítulo, estudiará cómo se pueden utilizar los algoritmos de aprendizaje automático para resolver problemas de regresión, es decir, predecir un valor continuo utilizando la biblioteca Sklearn (https://bit.ly/2Zvy2Sm). En el capítulo 7, verá cómo resolver problemas de clasificación a través de Sklearn. El capítulo 8 ofrece una descripción general del algoritmo de aprendizaje no supervisado."
      ]
    },
    {
      "cell_type": "markdown",
      "metadata": {
        "id": "_2JLIp18tbNv"
      },
      "source": [
        "## **1. Preparación de datos para problemas de regresión.**\r\n",
        "\r\n",
        "Los algoritmos de aprendizaje automático requieren que los datos estén en un formato determinado antes de que los algoritmos puedan entrenarse con los datos. En esta sección, verá varios pasos de preprocesamiento de datos que debe realizar antes de poder entrenar algoritmos de aprendizaje automático utilizando la biblioteca `Sklearn`.\r\n",
        "\r\n",
        "Puede leer datos de archivos CSV. Sin embargo, los conjuntos de datos que vamos a utilizar en esta sección están disponibles de forma predeterminada en la biblioteca de `Seaborn`. Para ver todos los conjuntos de datos, puede usar la función `get_dataset_names ()` como se muestra en el siguiente script:\r\n"
      ]
    },
    {
      "cell_type": "code",
      "metadata": {
        "id": "6aKQd6nDKwIb"
      },
      "source": [
        "import pandas as pd\n",
        "import numpy as np\n",
        "import seaborn as sns\n",
        "sns.get_dataset_names()"
      ],
      "execution_count": null,
      "outputs": []
    },
    {
      "cell_type": "markdown",
      "metadata": {
        "id": "cFgXaR4qKwI5"
      },
      "source": [
        "Para leer un conjunto de datos en particular en el marco de datos de Pandas, pase el nombre del conjunto de datos al método load_dataset () de la biblioteca Seaborn.\n",
        "\n",
        "La siguiente secuencia de comandos carga el conjunto de datos Tips y muestra sus primeras cinco filas."
      ]
    },
    {
      "cell_type": "code",
      "metadata": {
        "id": "8E0UuSZqKwI6"
      },
      "source": [
        "tips_df = sns.load_dataset(\"tips\")\n",
        "tips_df.head()"
      ],
      "execution_count": null,
      "outputs": []
    },
    {
      "cell_type": "markdown",
      "metadata": {
        "id": "c2XnYcAxKwI_"
      },
      "source": [
        "En este capítulo, trabajaremos con el conjunto de datos Tips. Usaremos algoritmos de aprendizaje automático para predecir la \"propina\" de un registro en particular, en función de las características restantes, como \"factura_total\", \"sexo\", \"día\", \"hora\", etc.\n",
        "\n",
        "### **1.1  División de datos en funciones y etiquetas**\n",
        "\n",
        "Como primer paso, dividimos los datos en conjuntos de características y etiquetas. Nuestro conjunto de etiquetas consta de valores de la columna \"propina\", mientras que el conjunto de características consta de valores de las columnas restantes. El siguiente script divide los datos en conjuntos de características y etiquetas."
      ]
    },
    {
      "cell_type": "code",
      "metadata": {
        "id": "SrGMCjvPKwJA"
      },
      "source": [
        "X = tips_df.drop([\"tip\"], axis=1)\n",
        "y = tips_df[\"tip\"]"
      ],
      "execution_count": null,
      "outputs": []
    },
    {
      "cell_type": "markdown",
      "metadata": {
        "id": "7MLIrQBmKwJB"
      },
      "source": [
        "Imprimamos el conjunto de funciones."
      ]
    },
    {
      "cell_type": "code",
      "metadata": {
        "id": "1_iJscfWKwJH",
        "colab": {
          "base_uri": "https://localhost:8080/"
        },
        "outputId": "4e838dfc-9495-456b-ff4a-987a6b7ff316"
      },
      "source": [
        "X.head()"
      ],
      "execution_count": null,
      "outputs": [
        {
          "output_type": "execute_result",
          "data": {
            "text/html": [
              "<div>\n",
              "<style scoped>\n",
              "    .dataframe tbody tr th:only-of-type {\n",
              "        vertical-align: middle;\n",
              "    }\n",
              "\n",
              "    .dataframe tbody tr th {\n",
              "        vertical-align: top;\n",
              "    }\n",
              "\n",
              "    .dataframe thead th {\n",
              "        text-align: right;\n",
              "    }\n",
              "</style>\n",
              "<table border=\"1\" class=\"dataframe\">\n",
              "  <thead>\n",
              "    <tr style=\"text-align: right;\">\n",
              "      <th></th>\n",
              "      <th>total_bill</th>\n",
              "      <th>sex</th>\n",
              "      <th>smoker</th>\n",
              "      <th>day</th>\n",
              "      <th>time</th>\n",
              "      <th>size</th>\n",
              "    </tr>\n",
              "  </thead>\n",
              "  <tbody>\n",
              "    <tr>\n",
              "      <th>0</th>\n",
              "      <td>16.99</td>\n",
              "      <td>Female</td>\n",
              "      <td>No</td>\n",
              "      <td>Sun</td>\n",
              "      <td>Dinner</td>\n",
              "      <td>2</td>\n",
              "    </tr>\n",
              "    <tr>\n",
              "      <th>1</th>\n",
              "      <td>10.34</td>\n",
              "      <td>Male</td>\n",
              "      <td>No</td>\n",
              "      <td>Sun</td>\n",
              "      <td>Dinner</td>\n",
              "      <td>3</td>\n",
              "    </tr>\n",
              "    <tr>\n",
              "      <th>2</th>\n",
              "      <td>21.01</td>\n",
              "      <td>Male</td>\n",
              "      <td>No</td>\n",
              "      <td>Sun</td>\n",
              "      <td>Dinner</td>\n",
              "      <td>3</td>\n",
              "    </tr>\n",
              "    <tr>\n",
              "      <th>3</th>\n",
              "      <td>23.68</td>\n",
              "      <td>Male</td>\n",
              "      <td>No</td>\n",
              "      <td>Sun</td>\n",
              "      <td>Dinner</td>\n",
              "      <td>2</td>\n",
              "    </tr>\n",
              "    <tr>\n",
              "      <th>4</th>\n",
              "      <td>24.59</td>\n",
              "      <td>Female</td>\n",
              "      <td>No</td>\n",
              "      <td>Sun</td>\n",
              "      <td>Dinner</td>\n",
              "      <td>4</td>\n",
              "    </tr>\n",
              "  </tbody>\n",
              "</table>\n",
              "</div>"
            ],
            "text/plain": [
              "   total_bill     sex smoker  day    time  size\n",
              "0       16.99  Female     No  Sun  Dinner     2\n",
              "1       10.34    Male     No  Sun  Dinner     3\n",
              "2       21.01    Male     No  Sun  Dinner     3\n",
              "3       23.68    Male     No  Sun  Dinner     2\n",
              "4       24.59  Female     No  Sun  Dinner     4"
            ]
          },
          "metadata": {
            "tags": []
          },
          "execution_count": 5
        }
      ]
    },
    {
      "cell_type": "markdown",
      "metadata": {
        "id": "6YFEyBXsKwJJ"
      },
      "source": [
        "Y el siguiente script imprime el conjunto de etiquetas."
      ]
    },
    {
      "cell_type": "code",
      "metadata": {
        "id": "qw1gU3l5KwJK",
        "colab": {
          "base_uri": "https://localhost:8080/"
        },
        "outputId": "0a744819-df21-4167-d5f2-abf4c2e17e0b"
      },
      "source": [
        "y.head()"
      ],
      "execution_count": null,
      "outputs": [
        {
          "output_type": "execute_result",
          "data": {
            "text/plain": [
              "0    1.01\n",
              "1    1.66\n",
              "2    3.50\n",
              "3    3.31\n",
              "4    3.61\n",
              "Name: tip, dtype: float64"
            ]
          },
          "metadata": {
            "tags": []
          },
          "execution_count": 6
        }
      ]
    },
    {
      "cell_type": "markdown",
      "metadata": {
        "id": "Diu2X48QKwJL"
      },
      "source": [
        "### **1.2. Conversión de datos categóricos en números**\n",
        "\n",
        "Los algoritmos de aprendizaje automático, en su mayor parte, solo pueden funcionar con números. Por lo tanto, es importante convertir los datos categóricos a un formato numérico.\n",
        "\n",
        "En este sentido, el primer paso es crear un conjunto de datos de todos los valores numéricos. Para hacerlo, elimine las columnas categóricas del conjunto de datos, como se muestra a continuación."
      ]
    },
    {
      "cell_type": "code",
      "metadata": {
        "id": "PADa3416KwJM"
      },
      "source": [
        "numerical = X.drop([\"sex\" , \"smoker\" , \"day\" , \"time\" ], axis = 1)"
      ],
      "execution_count": null,
      "outputs": []
    },
    {
      "cell_type": "markdown",
      "metadata": {
        "id": "Elo6d7hYKwJN"
      },
      "source": [
        "El resultado a continuación muestra que el marco de datos \"numérico\" contiene sólo columnas numéricas."
      ]
    },
    {
      "cell_type": "code",
      "metadata": {
        "id": "xnUchPJJKwJN",
        "colab": {
          "base_uri": "https://localhost:8080/"
        },
        "outputId": "62f2626d-5978-447c-93cb-2b82b916cd7c"
      },
      "source": [
        "numerical.head()"
      ],
      "execution_count": null,
      "outputs": [
        {
          "output_type": "execute_result",
          "data": {
            "text/html": [
              "<div>\n",
              "<style scoped>\n",
              "    .dataframe tbody tr th:only-of-type {\n",
              "        vertical-align: middle;\n",
              "    }\n",
              "\n",
              "    .dataframe tbody tr th {\n",
              "        vertical-align: top;\n",
              "    }\n",
              "\n",
              "    .dataframe thead th {\n",
              "        text-align: right;\n",
              "    }\n",
              "</style>\n",
              "<table border=\"1\" class=\"dataframe\">\n",
              "  <thead>\n",
              "    <tr style=\"text-align: right;\">\n",
              "      <th></th>\n",
              "      <th>total_bill</th>\n",
              "      <th>size</th>\n",
              "    </tr>\n",
              "  </thead>\n",
              "  <tbody>\n",
              "    <tr>\n",
              "      <th>0</th>\n",
              "      <td>16.99</td>\n",
              "      <td>2</td>\n",
              "    </tr>\n",
              "    <tr>\n",
              "      <th>1</th>\n",
              "      <td>10.34</td>\n",
              "      <td>3</td>\n",
              "    </tr>\n",
              "    <tr>\n",
              "      <th>2</th>\n",
              "      <td>21.01</td>\n",
              "      <td>3</td>\n",
              "    </tr>\n",
              "    <tr>\n",
              "      <th>3</th>\n",
              "      <td>23.68</td>\n",
              "      <td>2</td>\n",
              "    </tr>\n",
              "    <tr>\n",
              "      <th>4</th>\n",
              "      <td>24.59</td>\n",
              "      <td>4</td>\n",
              "    </tr>\n",
              "  </tbody>\n",
              "</table>\n",
              "</div>"
            ],
            "text/plain": [
              "   total_bill  size\n",
              "0       16.99     2\n",
              "1       10.34     3\n",
              "2       21.01     3\n",
              "3       23.68     2\n",
              "4       24.59     4"
            ]
          },
          "metadata": {
            "tags": []
          },
          "execution_count": 8
        }
      ]
    },
    {
      "cell_type": "markdown",
      "metadata": {
        "id": "hzbVJJVwKwJO"
      },
      "source": [
        "A continuación, debe crear un marco de datos que contenga solo columnas categóricas."
      ]
    },
    {
      "cell_type": "code",
      "metadata": {
        "id": "m3kZvG16KwJP",
        "colab": {
          "base_uri": "https://localhost:8080/"
        },
        "outputId": "ae4f9581-33a6-4d1f-959b-5409d57f6f95"
      },
      "source": [
        "categorical = X.filter([\"sex\" , \"smoker\" , \"day\" , \"time\" ])\n",
        "categorical.head()"
      ],
      "execution_count": null,
      "outputs": [
        {
          "output_type": "execute_result",
          "data": {
            "text/html": [
              "<div>\n",
              "<style scoped>\n",
              "    .dataframe tbody tr th:only-of-type {\n",
              "        vertical-align: middle;\n",
              "    }\n",
              "\n",
              "    .dataframe tbody tr th {\n",
              "        vertical-align: top;\n",
              "    }\n",
              "\n",
              "    .dataframe thead th {\n",
              "        text-align: right;\n",
              "    }\n",
              "</style>\n",
              "<table border=\"1\" class=\"dataframe\">\n",
              "  <thead>\n",
              "    <tr style=\"text-align: right;\">\n",
              "      <th></th>\n",
              "      <th>sex</th>\n",
              "      <th>smoker</th>\n",
              "      <th>day</th>\n",
              "      <th>time</th>\n",
              "    </tr>\n",
              "  </thead>\n",
              "  <tbody>\n",
              "    <tr>\n",
              "      <th>0</th>\n",
              "      <td>Female</td>\n",
              "      <td>No</td>\n",
              "      <td>Sun</td>\n",
              "      <td>Dinner</td>\n",
              "    </tr>\n",
              "    <tr>\n",
              "      <th>1</th>\n",
              "      <td>Male</td>\n",
              "      <td>No</td>\n",
              "      <td>Sun</td>\n",
              "      <td>Dinner</td>\n",
              "    </tr>\n",
              "    <tr>\n",
              "      <th>2</th>\n",
              "      <td>Male</td>\n",
              "      <td>No</td>\n",
              "      <td>Sun</td>\n",
              "      <td>Dinner</td>\n",
              "    </tr>\n",
              "    <tr>\n",
              "      <th>3</th>\n",
              "      <td>Male</td>\n",
              "      <td>No</td>\n",
              "      <td>Sun</td>\n",
              "      <td>Dinner</td>\n",
              "    </tr>\n",
              "    <tr>\n",
              "      <th>4</th>\n",
              "      <td>Female</td>\n",
              "      <td>No</td>\n",
              "      <td>Sun</td>\n",
              "      <td>Dinner</td>\n",
              "    </tr>\n",
              "  </tbody>\n",
              "</table>\n",
              "</div>"
            ],
            "text/plain": [
              "      sex smoker  day    time\n",
              "0  Female     No  Sun  Dinner\n",
              "1    Male     No  Sun  Dinner\n",
              "2    Male     No  Sun  Dinner\n",
              "3    Male     No  Sun  Dinner\n",
              "4  Female     No  Sun  Dinner"
            ]
          },
          "metadata": {
            "tags": []
          },
          "execution_count": 9
        }
      ]
    },
    {
      "cell_type": "markdown",
      "metadata": {
        "id": "G2Z6fX0dKwJQ"
      },
      "source": [
        "Uno de los enfoques más comunes para convertir una columna categórica en una numérica es mediante la codificación one-hot. En la codificación one-hot, para cada valor único en las columnas originales, se crea una nueva columna. Por ejemplo, para el sexo, se crean dos columnas: Femenino y Masculino. Si la columna de sexo original contenía hombre, se agrega un 1 en la columna Hombre recién creada, mientras que se agrega 1 en la columna recién creada.\n",
        "Columna Mujer si la columna de sexo original contenía Mujer.\n",
        "\n",
        "Sin embargo, se puede observar que realmente no necesitamos dos columnas. Una sola columna, es decir, Mujer es suficiente, ya que cuando un cliente es mujer, podemos agregar 1 en la columna Mujer, de lo contrario, se puede agregar 1 en esa columna. Por lo tanto, necesitamos N-1 columnas codificadas en caliente para todos los N valores en la columna original.\n",
        "\n",
        "El siguiente script convierte columnas categóricas en columnas codificadas en un solo uso utilizando el método `pd.get_dummies ()`."
      ]
    },
    {
      "cell_type": "code",
      "metadata": {
        "id": "Pq2wCBcTKwJR",
        "colab": {
          "base_uri": "https://localhost:8080/"
        },
        "outputId": "199b9d41-da13-4f20-ca83-d18c71ab3030"
      },
      "source": [
        "import pandas as pd\n",
        "cat_numerical = pd.get_dummies(categorical,drop_first=True)\n",
        "cat_numerical.head()"
      ],
      "execution_count": null,
      "outputs": [
        {
          "output_type": "execute_result",
          "data": {
            "text/html": [
              "<div>\n",
              "<style scoped>\n",
              "    .dataframe tbody tr th:only-of-type {\n",
              "        vertical-align: middle;\n",
              "    }\n",
              "\n",
              "    .dataframe tbody tr th {\n",
              "        vertical-align: top;\n",
              "    }\n",
              "\n",
              "    .dataframe thead th {\n",
              "        text-align: right;\n",
              "    }\n",
              "</style>\n",
              "<table border=\"1\" class=\"dataframe\">\n",
              "  <thead>\n",
              "    <tr style=\"text-align: right;\">\n",
              "      <th></th>\n",
              "      <th>sex_Female</th>\n",
              "      <th>smoker_No</th>\n",
              "      <th>day_Fri</th>\n",
              "      <th>day_Sat</th>\n",
              "      <th>day_Sun</th>\n",
              "      <th>time_Dinner</th>\n",
              "    </tr>\n",
              "  </thead>\n",
              "  <tbody>\n",
              "    <tr>\n",
              "      <th>0</th>\n",
              "      <td>1</td>\n",
              "      <td>1</td>\n",
              "      <td>0</td>\n",
              "      <td>0</td>\n",
              "      <td>1</td>\n",
              "      <td>1</td>\n",
              "    </tr>\n",
              "    <tr>\n",
              "      <th>1</th>\n",
              "      <td>0</td>\n",
              "      <td>1</td>\n",
              "      <td>0</td>\n",
              "      <td>0</td>\n",
              "      <td>1</td>\n",
              "      <td>1</td>\n",
              "    </tr>\n",
              "    <tr>\n",
              "      <th>2</th>\n",
              "      <td>0</td>\n",
              "      <td>1</td>\n",
              "      <td>0</td>\n",
              "      <td>0</td>\n",
              "      <td>1</td>\n",
              "      <td>1</td>\n",
              "    </tr>\n",
              "    <tr>\n",
              "      <th>3</th>\n",
              "      <td>0</td>\n",
              "      <td>1</td>\n",
              "      <td>0</td>\n",
              "      <td>0</td>\n",
              "      <td>1</td>\n",
              "      <td>1</td>\n",
              "    </tr>\n",
              "    <tr>\n",
              "      <th>4</th>\n",
              "      <td>1</td>\n",
              "      <td>1</td>\n",
              "      <td>0</td>\n",
              "      <td>0</td>\n",
              "      <td>1</td>\n",
              "      <td>1</td>\n",
              "    </tr>\n",
              "  </tbody>\n",
              "</table>\n",
              "</div>"
            ],
            "text/plain": [
              "   sex_Female  smoker_No  day_Fri  day_Sat  day_Sun  time_Dinner\n",
              "0           1          1        0        0        1            1\n",
              "1           0          1        0        0        1            1\n",
              "2           0          1        0        0        1            1\n",
              "3           0          1        0        0        1            1\n",
              "4           1          1        0        0        1            1"
            ]
          },
          "metadata": {
            "tags": []
          },
          "execution_count": 10
        }
      ]
    },
    {
      "cell_type": "markdown",
      "metadata": {
        "id": "b10o2v1aKwJX"
      },
      "source": [
        "The output shows the newly created one-hot encoded columns.\n",
        "\n",
        "El paso final es unir las columnas numéricas con las columnas codificadas en caliente. Para hacerlo, puede usar la función `concat ()` de la biblioteca Pandas como se muestra a continuación:"
      ]
    },
    {
      "cell_type": "code",
      "metadata": {
        "id": "a7C1TXviKwJY",
        "colab": {
          "base_uri": "https://localhost:8080/"
        },
        "outputId": "784d8bc1-1915-4449-9f67-3a853e0f049f"
      },
      "source": [
        "X = pd.concat([numerical, cat_numerical], axis = 1)\n",
        "X.head()"
      ],
      "execution_count": null,
      "outputs": [
        {
          "output_type": "execute_result",
          "data": {
            "text/html": [
              "<div>\n",
              "<style scoped>\n",
              "    .dataframe tbody tr th:only-of-type {\n",
              "        vertical-align: middle;\n",
              "    }\n",
              "\n",
              "    .dataframe tbody tr th {\n",
              "        vertical-align: top;\n",
              "    }\n",
              "\n",
              "    .dataframe thead th {\n",
              "        text-align: right;\n",
              "    }\n",
              "</style>\n",
              "<table border=\"1\" class=\"dataframe\">\n",
              "  <thead>\n",
              "    <tr style=\"text-align: right;\">\n",
              "      <th></th>\n",
              "      <th>total_bill</th>\n",
              "      <th>size</th>\n",
              "      <th>sex_Female</th>\n",
              "      <th>smoker_No</th>\n",
              "      <th>day_Fri</th>\n",
              "      <th>day_Sat</th>\n",
              "      <th>day_Sun</th>\n",
              "      <th>time_Dinner</th>\n",
              "    </tr>\n",
              "  </thead>\n",
              "  <tbody>\n",
              "    <tr>\n",
              "      <th>0</th>\n",
              "      <td>16.99</td>\n",
              "      <td>2</td>\n",
              "      <td>1</td>\n",
              "      <td>1</td>\n",
              "      <td>0</td>\n",
              "      <td>0</td>\n",
              "      <td>1</td>\n",
              "      <td>1</td>\n",
              "    </tr>\n",
              "    <tr>\n",
              "      <th>1</th>\n",
              "      <td>10.34</td>\n",
              "      <td>3</td>\n",
              "      <td>0</td>\n",
              "      <td>1</td>\n",
              "      <td>0</td>\n",
              "      <td>0</td>\n",
              "      <td>1</td>\n",
              "      <td>1</td>\n",
              "    </tr>\n",
              "    <tr>\n",
              "      <th>2</th>\n",
              "      <td>21.01</td>\n",
              "      <td>3</td>\n",
              "      <td>0</td>\n",
              "      <td>1</td>\n",
              "      <td>0</td>\n",
              "      <td>0</td>\n",
              "      <td>1</td>\n",
              "      <td>1</td>\n",
              "    </tr>\n",
              "    <tr>\n",
              "      <th>3</th>\n",
              "      <td>23.68</td>\n",
              "      <td>2</td>\n",
              "      <td>0</td>\n",
              "      <td>1</td>\n",
              "      <td>0</td>\n",
              "      <td>0</td>\n",
              "      <td>1</td>\n",
              "      <td>1</td>\n",
              "    </tr>\n",
              "    <tr>\n",
              "      <th>4</th>\n",
              "      <td>24.59</td>\n",
              "      <td>4</td>\n",
              "      <td>1</td>\n",
              "      <td>1</td>\n",
              "      <td>0</td>\n",
              "      <td>0</td>\n",
              "      <td>1</td>\n",
              "      <td>1</td>\n",
              "    </tr>\n",
              "  </tbody>\n",
              "</table>\n",
              "</div>"
            ],
            "text/plain": [
              "   total_bill  size  sex_Female  ...  day_Sat  day_Sun  time_Dinner\n",
              "0       16.99     2           1  ...        0        1            1\n",
              "1       10.34     3           0  ...        0        1            1\n",
              "2       21.01     3           0  ...        0        1            1\n",
              "3       23.68     2           0  ...        0        1            1\n",
              "4       24.59     4           1  ...        0        1            1\n",
              "\n",
              "[5 rows x 8 columns]"
            ]
          },
          "metadata": {
            "tags": []
          },
          "execution_count": 11
        }
      ]
    },
    {
      "cell_type": "markdown",
      "metadata": {
        "id": "bvj8jY-TKwJZ"
      },
      "source": [
        "### **1.3. Divida los datos en conjuntos de prueba y entrenamiento**\n",
        "\n",
        "Después de entrenar un algoritmo de aprendizaje automático, debe evaluarlo para ver qué tan bien funciona con datos invisibles. Por lo tanto, dividimos el conjunto de datos en dos conjuntos, es decir, un conjunto de entrenamiento y un conjunto de prueba. El conjunto de datos se entrena a través del conjunto de entrenamiento y se evalúa en el conjunto de prueba. Para dividir los datos en conjuntos de entrenamiento y prueba, puede usar la función `train_test_split ()` de la biblioteca Sklearn, como se muestra a continuación. El seguimiento El script divide los datos en un conjunto de entrenamiento del 80 por ciento y un conjunto de prueba del 20 por ciento."
      ]
    },
    {
      "cell_type": "code",
      "metadata": {
        "id": "wTyG9m83KwJa"
      },
      "source": [
        "from sklearn.model_selection import train_test_split\n",
        "X_train, X_test, y_train, y_test = train_test_split(X, y, test_size=0.20, random_state=0)"
      ],
      "execution_count": null,
      "outputs": []
    },
    {
      "cell_type": "markdown",
      "metadata": {
        "id": "nRvx5iWIKwJa"
      },
      "source": [
        "### **1.4. Escalado / normalización de datos**\n",
        "\n",
        "El paso final (opcional) antes de que los datos se pasen a los algoritmos de aprendizaje automático es escalar los datos. Puede ver que algunas columnas del conjunto de datos contienen valores pequeños, mientras que otras contienen valores muy grandes. Es mejor convertir todos los valores a una escala uniforme. Para hacerlo, puede usar la función `StandardScaler ()` del módulo `sklearn.preprocessing`, como se muestra a continuación:"
      ]
    },
    {
      "cell_type": "code",
      "metadata": {
        "id": "SuD_xJJsKwJb"
      },
      "source": [
        "from sklearn.preprocessing import StandardScaler\n",
        "sc = StandardScaler()\n",
        "#scaling the training set\n",
        "X_train = sc.fit_transform(X_train)\n",
        "#scaling the test set\n",
        "X_test = sc.transform (X_test)"
      ],
      "execution_count": null,
      "outputs": []
    },
    {
      "cell_type": "markdown",
      "metadata": {
        "id": "4-3o4lEgKwJh"
      },
      "source": [
        "Hemos convertido los datos a un formato que se puede utilizar para entrenar algoritmos de aprendizaje automático para la regresión desde la biblioteca de Sklearn. Los detalles, incluidas las funcionalidades y el uso de todos los algoritmos de aprendizaje automático, están disponibles en este enlace. Puede verificar todos los algoritmos de regresión yendo a ese enlace.\n",
        "\n",
        "En la siguiente sección, revisaremos algunos de los algoritmos de regresión más utilizados.\n",
        "\n",
        "## **2. Regresión lineal**\n",
        "\n",
        "La regresión lineal es un modelo lineal que supone una relación lineal entre las entradas y las salidas y minimiza el costo del error entre la salida prevista y la real utilizando funciones como el error absoluto medio entre diferentes puntos de datos.\n",
        "\n",
        "\n",
        "\n",
        "\n"
      ]
    },
    {
      "cell_type": "markdown",
      "metadata": {
        "id": "vqoNf1CpWtC-"
      },
      "source": [
        "### **2.1. ¿Por qué utilizar el algoritmo de regresión lineal?**\r\n",
        "\r\n",
        "El algoritmo de bosque aleatorio es particularmente útil cuando:\r\n",
        "\r\n",
        "1. La regresión lineal es un algoritmo fácil de implementar y de interpretar\r\n",
        "2. Se necesita menos tiempo de entrenamiento para entrenar incluso para grandes conjuntos de datos.\r\n",
        "3. Los coeficientes de regresión lineal son fáciles de interpretar."
      ]
    },
    {
      "cell_type": "markdown",
      "metadata": {
        "id": "jiFSowoYWmWG"
      },
      "source": [
        "### **2.2. Desventajas del algoritmo de regresión lineal**\r\n",
        "\r\n",
        "Las siguientes son las desventajas del algoritmo KNN.\r\n",
        "\r\n",
        "1. El rendimiento se ve afectado fácilmente por la presencia de valores atípicos.\r\n",
        "2. Asume que una relación lineal entre variables dependientes e independientes puede resultar en un error mayor."
      ]
    },
    {
      "cell_type": "markdown",
      "metadata": {
        "id": "NG3tqtikWdAD"
      },
      "source": [
        "### **2.3. Implementación de regresión lineal con Sklearn**\r\n",
        "\r\n",
        "Para implementar la regresión lineal con `Sklearn`, puede usar la clase LinearRegression del módulo sklearn.linear_model. Para entrenar el algoritmo, los conjuntos de entrenamiento y prueba, es decir, `X_train` y `X_test` en nuestro caso, se pasan al método `fit ()` del objeto de la clase LinearRegression. El conjunto de prueba se pasa al método `predict ()` de la clase para realizar predicciones. El proceso de entrenamiento y realización de predicciones con el algoritmo de regresión lineal es el siguiente:"
      ]
    },
    {
      "cell_type": "code",
      "metadata": {
        "id": "NLsXfrN3KwJj"
      },
      "source": [
        "from sklearn.linear_model import LinearRegression\n",
        "# training the algorithm\n",
        "lin_reg = LinearRegression()\n",
        "regressor = lin_reg.fit(X_train, y_train)\n",
        "# making predictions on test set\n",
        "y_pred = regressor.predict(X_test)"
      ],
      "execution_count": null,
      "outputs": []
    },
    {
      "cell_type": "markdown",
      "metadata": {
        "id": "vaDcQMM3VRWy"
      },
      "source": [
        "### **2.4 Coeficiente del modelo**"
      ]
    },
    {
      "cell_type": "code",
      "metadata": {
        "id": "Oi4Ay_U6KwJp",
        "colab": {
          "base_uri": "https://localhost:8080/"
        },
        "outputId": "dee7facc-cdfe-4790-9766-9b9ff9544a30"
      },
      "source": [
        "# The coefficients\n",
        "print('Coefficients: \\n', lin_reg.coef_)"
      ],
      "execution_count": null,
      "outputs": [
        {
          "output_type": "stream",
          "text": [
            "Coefficients: \n",
            " [ 0.78092503  0.19840546  0.00344838  0.01539503  0.13827768  0.1395068\n",
            "  0.1833158  -0.20183948]\n"
          ],
          "name": "stdout"
        }
      ]
    },
    {
      "cell_type": "markdown",
      "metadata": {
        "id": "2TRVh1qEWA5Q"
      },
      "source": [
        "### **2.5 Calcula el MSE**"
      ]
    },
    {
      "cell_type": "code",
      "metadata": {
        "id": "LYTeWEgOKwJq",
        "colab": {
          "base_uri": "https://localhost:8080/"
        },
        "outputId": "44b97e93-83a8-4399-d1f1-34b7cb32ac7c"
      },
      "source": [
        "# The mean squared error\n",
        "from sklearn.metrics import mean_squared_error, r2_score\n",
        "print(\"Mean squared error: %.2f\" % mean_squared_error(y_test, y_pred))"
      ],
      "execution_count": null,
      "outputs": [
        {
          "output_type": "stream",
          "text": [
            "Mean squared error: 0.89\n"
          ],
          "name": "stdout"
        }
      ]
    },
    {
      "cell_type": "markdown",
      "metadata": {
        "id": "0L_A9mUPWKI0"
      },
      "source": [
        "### **2.6 Coeficiente de Determinación**"
      ]
    },
    {
      "cell_type": "code",
      "metadata": {
        "id": "M2WllBHdKwJq",
        "colab": {
          "base_uri": "https://localhost:8080/"
        },
        "outputId": "f07531a1-4189-4bb0-cf39-60182a0e1e9f"
      },
      "source": [
        "# The coefficient of determination: 1 is perfect prediction\n",
        "print('Coefficient of determination: %.2f'\n",
        "      % r2_score(y_test, y_pred))"
      ],
      "execution_count": null,
      "outputs": [
        {
          "output_type": "stream",
          "text": [
            "Coefficient of determination: 0.55\n"
          ],
          "name": "stdout"
        }
      ]
    },
    {
      "cell_type": "markdown",
      "metadata": {
        "id": "JmAeZ9eoW9Uk"
      },
      "source": [
        "### **2.7 Gráfico**"
      ]
    },
    {
      "cell_type": "code",
      "metadata": {
        "id": "LL5d-pQiKwJr",
        "colab": {
          "base_uri": "https://localhost:8080/",
          "height": 287
        },
        "outputId": "8f79c9cb-47f7-40db-d571-c0e8ce405bd3"
      },
      "source": [
        "import matplotlib.pyplot as plt\n",
        "\n",
        "# Plot outputs\n",
        "#plt.scatter(X_test, y_test,  color=\"g\")\n",
        "plt.plot(X_test, y_pred, color=\"m\", linewidth=3)\n",
        "plt.title(\"Regresión lineal\", fontsize=20)\n",
        "\n",
        "plt.show()"
      ],
      "execution_count": null,
      "outputs": [
        {
          "output_type": "display_data",
          "data": {
            "image/png": "[encoded data removed]",
            "text/plain": [
              "<Figure size 432x288 with 1 Axes>"
            ]
          },
          "metadata": {
            "tags": [],
            "needs_background": "light"
          }
        }
      ]
    },
    {
      "cell_type": "markdown",
      "metadata": {
        "id": "xtqNb6oUXJSH"
      },
      "source": [
        "### **2.8 Tipos de Metricas**"
      ]
    },
    {
      "cell_type": "markdown",
      "metadata": {
        "id": "Yp3uH3AvKwJt"
      },
      "source": [
        "Una vez que haya entrenado un modelo y haya hecho predicciones en el conjunto de prueba, el siguiente paso es saber qué tan bien se ha desempeñado su modelo para hacer predicciones en el conjunto de prueba desconocido. Hay varias métricas para comprobarlo. Sin embargo, el error absoluto medio, el error cuadrático medio y el error cuadrático medio medio son tres de las métricas más comunes.\n",
        "\n",
        "**Error absoluto medio(Mean Absolute Error MAE)**\n",
        "\n",
        "El error absoluto medio (MAE) se calcula tomando el promedio del error absoluto obtenido al restar los valores reales de los valores predichos. La ecuación para calcular MAE es:\n",
        "\n",
        "$$MAE=\\frac{\\Sigma_{i=1}^{n} |y_i-\\hat{y}|}{n} $$\n",
        "\n",
        "**Error medio cuadrado (Mean Squared Error MSE)**\n",
        "\n",
        "El error cuadrático medio (MSE) es similar al MAE. Sin embargo, el error para cada registro se eleva al cuadrado en el caso de MSE para castigar los registros de datos con una gran diferencia entre los valores predichos y reales. La ecuación para calcular el error cuadrático medio es la siguiente:\n",
        "\n",
        "$$MSE=\\frac{1}{2} \\Sigma_{i=1}^{n} (y_i-\\hat{y})^2 $$\n",
        "\n",
        "**Root Mean Squared Error**\n",
        "\n",
        "El error cuadrático medio es simplemente la raíz inferior del error cuadrático medio y se puede calcular de la siguiente manera:\n",
        "\n",
        "$$RMSE=\\sqrt{\\frac{1}{n} \\Sigma_{i=1}^{n} (y_i-\\hat{y})^2  } $$\n",
        "\n",
        "Los métodos utilizados para encontrar el valor de estas métricas están disponibles en la clase `sklearn.metrics`. Los valores predichos y reales deben pasarse a estos métodos, como se muestra en el resultado."
      ]
    },
    {
      "cell_type": "code",
      "metadata": {
        "id": "4hkwh965KwJu",
        "colab": {
          "base_uri": "https://localhost:8080/"
        },
        "outputId": "3efeae44-f10d-4758-9f94-17458793c244"
      },
      "source": [
        "from sklearn import metrics\n",
        "\n",
        "print (\"Mean Absolute Error:\" , metrics.mean_absolute_error(y_test, y_pred))\n",
        "print (\"Mean Squared Error:\" , metrics.mean_squared_error(y_test, y_pred))\n",
        "print (\"Root Mean Squared Error:\" , np.sqrt(metrics.mean_squared_error(y_test, y_pred)))\n",
        "# The coefficient of determination: 1 is perfect prediction\n",
        "print('Coefficient of determination: %.2f'% r2_score(y_test, y_pred))"
      ],
      "execution_count": null,
      "outputs": [
        {
          "output_type": "stream",
          "text": [
            "Mean Absolute Error: 0.7080218832979825\n",
            "Mean Squared Error: 0.8939195221609609\n",
            "Root Mean Squared Error: 0.9454731736865731\n",
            "Coefficient of determination: 0.55\n"
          ],
          "name": "stdout"
        }
      ]
    },
    {
      "cell_type": "markdown",
      "metadata": {
        "id": "9BtNz3CkKwJ2"
      },
      "source": [
        "Aquí está la salida. Al observar el error absoluto medio, se puede concluir que, en promedio, hay un error de 0,70 para las predicciones, lo que significa que, en promedio, los valores de propina predichos son 0,70 $ más o menos que los valores de propina reales."
      ]
    },
    {
      "cell_type": "markdown",
      "metadata": {
        "id": "uGWIIZ_oKwJ3"
      },
      "source": [
        "##  **3. Modelo KNN para Regresión**\n",
        "\n",
        "El KNN significa K-vecinos más cercanos. KNN es un algoritmo de aprendizaje automatico, que se basa en encontrar la distancia euclidiana entre diferentes puntos de datos."
      ]
    },
    {
      "cell_type": "code",
      "metadata": {
        "colab": {
          "base_uri": "https://localhost:8080/",
          "height": 532
        },
        "cellView": "form",
        "id": "8npLEUk65fZZ",
        "outputId": "4c36ad8e-4cd9-45e5-de0f-c41d93e20b82"
      },
      "source": [
        "#@title Algoritmo KNN\r\n",
        "from IPython.display import Image\r\n",
        "Image(\"/content/drive/MyDrive/imagenes/knn.png\")"
      ],
      "execution_count": null,
      "outputs": [
        {
          "output_type": "execute_result",
          "data": {
            "image/png": "[encoded data removed]",
            "text/plain": [
              "<IPython.core.display.Image object>"
            ]
          },
          "metadata": {
            "tags": []
          },
          "execution_count": 28
        }
      ]
    },
    {
      "cell_type": "markdown",
      "metadata": {
        "id": "882_IEmLBJMG"
      },
      "source": [
        "**¿Por qué utilizar el algoritmo KNN?**\r\n",
        "\r\n",
        "El algoritmo KNN es particularmente útil cuando:\r\n",
        "\r\n",
        "1. El algoritmo KNN no asume ninguna relación entre las características.\r\n",
        "2. Útil para un conjunto de datos donde la localización de datos es importante.\r\n",
        "3. Solo tienes que sintonizar el parámetro K, que es el número de vecino más cercano\r\n",
        "4. No se necesita entrenamiento, ya que es un algoritmo de aprendizaje perezoso.\r\n",
        "5. Sistemas de recomendación y búsqueda de similitudes semánticas entre las principales aplicaciones del algoritmo KNN."
      ]
    },
    {
      "cell_type": "code",
      "metadata": {
        "colab": {
          "base_uri": "https://localhost:8080/"
        },
        "id": "OXvt7MVv5pxo",
        "outputId": "18e00af6-7f11-4935-9d73-b1dd2fb46910"
      },
      "source": [
        "from google.colab import drive\n",
        "drive.mount('/content/drive')"
      ],
      "execution_count": null,
      "outputs": [
        {
          "output_type": "stream",
          "text": [
            "Drive already mounted at /content/drive; to attempt to forcibly remount, call drive.mount(\"/content/drive\", force_remount=True).\n"
          ],
          "name": "stdout"
        }
      ]
    },
    {
      "cell_type": "markdown",
      "metadata": {
        "id": "8qJefrHnuRfV"
      },
      "source": [
        "**Desventajas del algoritmo KNN**\r\n",
        "\r\n",
        "Las siguientes son las desventajas del algoritmo KNN.\r\n",
        "1. Tiene que encontrar el valor óptimo de K, lo cual no es fácil.\r\n",
        "2. No apto para datos de dimensiones muy elevadas."
      ]
    },
    {
      "cell_type": "markdown",
      "metadata": {
        "id": "B9XyMBsEZd_3"
      },
      "source": [
        "### **3.1. Preparación de datos para problemas de regresión.**\r\n",
        "\r\n",
        "Los algoritmos de aprendizaje automático requieren que los datos estén en un formato determinado antes de que los algoritmos puedan entrenarse con los datos. En esta sección, verá varios pasos de preprocesamiento de datos que debe realizar antes de poder entrenar algoritmos de aprendizaje automático utilizando la biblioteca `Sklearn`.\r\n",
        "\r\n",
        "El conjuntos de datos que vamos a utilizar en esta sección están disponibles de forma predeterminada en la biblioteca de `Seaborn`. Para ver todos los conjuntos de datos, puede usar la función `get_dataset_names ()` como se muestra en el siguiente script:"
      ]
    },
    {
      "cell_type": "code",
      "metadata": {
        "colab": {
          "base_uri": "https://localhost:8080/"
        },
        "id": "X9lLMm_jfJlq",
        "outputId": "af3cee5f-f715-4aa4-f808-87b23bf9239a"
      },
      "source": [
        "import pandas as pd\n",
        "import numpy as np\n",
        "import seaborn as sns\n",
        "sns.get_dataset_names()"
      ],
      "execution_count": null,
      "outputs": [
        {
          "output_type": "execute_result",
          "data": {
            "text/plain": [
              "['anagrams',\n",
              " 'anscombe',\n",
              " 'attention',\n",
              " 'brain_networks',\n",
              " 'car_crashes',\n",
              " 'diamonds',\n",
              " 'dots',\n",
              " 'exercise',\n",
              " 'flights',\n",
              " 'fmri',\n",
              " 'gammas',\n",
              " 'geyser',\n",
              " 'iris',\n",
              " 'mpg',\n",
              " 'penguins',\n",
              " 'planets',\n",
              " 'tips',\n",
              " 'titanic']"
            ]
          },
          "metadata": {
            "tags": []
          },
          "execution_count": 1
        }
      ]
    },
    {
      "cell_type": "markdown",
      "metadata": {
        "id": "lqMZh-azfMtI"
      },
      "source": [
        "Para leer un conjunto de datos en particular en el marco de datos de Pandas, pase el nombre del conjunto de datos al método `load_dataset ()` de la biblioteca Seaborn.\n",
        "\n",
        "La siguiente secuencia de comandos carga el conjunto de datos *Tips* y muestra sus primeras cinco filas."
      ]
    },
    {
      "cell_type": "code",
      "metadata": {
        "colab": {
          "base_uri": "https://localhost:8080/",
          "height": 204
        },
        "id": "3o4hxNh4fPAK",
        "outputId": "b2720fdf-0ab0-4f5b-9a7b-dc6c17ce593a"
      },
      "source": [
        "tips_df = sns.load_dataset(\"tips\")\n",
        "tips_df.head()"
      ],
      "execution_count": null,
      "outputs": [
        {
          "output_type": "execute_result",
          "data": {
            "text/html": [
              "<div>\n",
              "<style scoped>\n",
              "    .dataframe tbody tr th:only-of-type {\n",
              "        vertical-align: middle;\n",
              "    }\n",
              "\n",
              "    .dataframe tbody tr th {\n",
              "        vertical-align: top;\n",
              "    }\n",
              "\n",
              "    .dataframe thead th {\n",
              "        text-align: right;\n",
              "    }\n",
              "</style>\n",
              "<table border=\"1\" class=\"dataframe\">\n",
              "  <thead>\n",
              "    <tr style=\"text-align: right;\">\n",
              "      <th></th>\n",
              "      <th>total_bill</th>\n",
              "      <th>tip</th>\n",
              "      <th>sex</th>\n",
              "      <th>smoker</th>\n",
              "      <th>day</th>\n",
              "      <th>time</th>\n",
              "      <th>size</th>\n",
              "    </tr>\n",
              "  </thead>\n",
              "  <tbody>\n",
              "    <tr>\n",
              "      <th>0</th>\n",
              "      <td>16.99</td>\n",
              "      <td>1.01</td>\n",
              "      <td>Female</td>\n",
              "      <td>No</td>\n",
              "      <td>Sun</td>\n",
              "      <td>Dinner</td>\n",
              "      <td>2</td>\n",
              "    </tr>\n",
              "    <tr>\n",
              "      <th>1</th>\n",
              "      <td>10.34</td>\n",
              "      <td>1.66</td>\n",
              "      <td>Male</td>\n",
              "      <td>No</td>\n",
              "      <td>Sun</td>\n",
              "      <td>Dinner</td>\n",
              "      <td>3</td>\n",
              "    </tr>\n",
              "    <tr>\n",
              "      <th>2</th>\n",
              "      <td>21.01</td>\n",
              "      <td>3.50</td>\n",
              "      <td>Male</td>\n",
              "      <td>No</td>\n",
              "      <td>Sun</td>\n",
              "      <td>Dinner</td>\n",
              "      <td>3</td>\n",
              "    </tr>\n",
              "    <tr>\n",
              "      <th>3</th>\n",
              "      <td>23.68</td>\n",
              "      <td>3.31</td>\n",
              "      <td>Male</td>\n",
              "      <td>No</td>\n",
              "      <td>Sun</td>\n",
              "      <td>Dinner</td>\n",
              "      <td>2</td>\n",
              "    </tr>\n",
              "    <tr>\n",
              "      <th>4</th>\n",
              "      <td>24.59</td>\n",
              "      <td>3.61</td>\n",
              "      <td>Female</td>\n",
              "      <td>No</td>\n",
              "      <td>Sun</td>\n",
              "      <td>Dinner</td>\n",
              "      <td>4</td>\n",
              "    </tr>\n",
              "  </tbody>\n",
              "</table>\n",
              "</div>"
            ],
            "text/plain": [
              "   total_bill   tip     sex smoker  day    time  size\n",
              "0       16.99  1.01  Female     No  Sun  Dinner     2\n",
              "1       10.34  1.66    Male     No  Sun  Dinner     3\n",
              "2       21.01  3.50    Male     No  Sun  Dinner     3\n",
              "3       23.68  3.31    Male     No  Sun  Dinner     2\n",
              "4       24.59  3.61  Female     No  Sun  Dinner     4"
            ]
          },
          "metadata": {
            "tags": []
          },
          "execution_count": 2
        }
      ]
    },
    {
      "cell_type": "markdown",
      "metadata": {
        "id": "hwAmw8XTfRX4"
      },
      "source": [
        "En este capítulo, trabajaremos con el conjunto de datos Tips. Usaremos algoritmos de aprendizaje automático para predecir la **Tip** \"propina\" de un registro en particular, en función de las características restantes, como \"factura_total\", \"sexo\", \"día\", \"hora\", etc.\n",
        "\n",
        "### **3.2  División de datos en funciones y etiquetas**\n",
        "\n",
        "Como primer paso, dividimos los datos en conjuntos de características y etiquetas. Nuestro conjunto de etiquetas consta de valores de la columna \"propina\", mientras que el conjunto de características consta de valores de las columnas restantes. El siguiente script divide los datos en conjuntos de características y etiquetas."
      ]
    },
    {
      "cell_type": "code",
      "metadata": {
        "colab": {
          "base_uri": "https://localhost:8080/",
          "height": 204
        },
        "id": "9V4trdaqfU50",
        "outputId": "c7640b6e-656c-4cb9-bcbe-58ba64a9fbe1"
      },
      "source": [
        "X = tips_df.drop([\"tip\"], axis=1)\n",
        "y = tips_df[\"tip\"]\n",
        "#visualizamos los datos\n",
        "X.head()"
      ],
      "execution_count": null,
      "outputs": [
        {
          "output_type": "execute_result",
          "data": {
            "text/html": [
              "<div>\n",
              "<style scoped>\n",
              "    .dataframe tbody tr th:only-of-type {\n",
              "        vertical-align: middle;\n",
              "    }\n",
              "\n",
              "    .dataframe tbody tr th {\n",
              "        vertical-align: top;\n",
              "    }\n",
              "\n",
              "    .dataframe thead th {\n",
              "        text-align: right;\n",
              "    }\n",
              "</style>\n",
              "<table border=\"1\" class=\"dataframe\">\n",
              "  <thead>\n",
              "    <tr style=\"text-align: right;\">\n",
              "      <th></th>\n",
              "      <th>total_bill</th>\n",
              "      <th>sex</th>\n",
              "      <th>smoker</th>\n",
              "      <th>day</th>\n",
              "      <th>time</th>\n",
              "      <th>size</th>\n",
              "    </tr>\n",
              "  </thead>\n",
              "  <tbody>\n",
              "    <tr>\n",
              "      <th>0</th>\n",
              "      <td>16.99</td>\n",
              "      <td>Female</td>\n",
              "      <td>No</td>\n",
              "      <td>Sun</td>\n",
              "      <td>Dinner</td>\n",
              "      <td>2</td>\n",
              "    </tr>\n",
              "    <tr>\n",
              "      <th>1</th>\n",
              "      <td>10.34</td>\n",
              "      <td>Male</td>\n",
              "      <td>No</td>\n",
              "      <td>Sun</td>\n",
              "      <td>Dinner</td>\n",
              "      <td>3</td>\n",
              "    </tr>\n",
              "    <tr>\n",
              "      <th>2</th>\n",
              "      <td>21.01</td>\n",
              "      <td>Male</td>\n",
              "      <td>No</td>\n",
              "      <td>Sun</td>\n",
              "      <td>Dinner</td>\n",
              "      <td>3</td>\n",
              "    </tr>\n",
              "    <tr>\n",
              "      <th>3</th>\n",
              "      <td>23.68</td>\n",
              "      <td>Male</td>\n",
              "      <td>No</td>\n",
              "      <td>Sun</td>\n",
              "      <td>Dinner</td>\n",
              "      <td>2</td>\n",
              "    </tr>\n",
              "    <tr>\n",
              "      <th>4</th>\n",
              "      <td>24.59</td>\n",
              "      <td>Female</td>\n",
              "      <td>No</td>\n",
              "      <td>Sun</td>\n",
              "      <td>Dinner</td>\n",
              "      <td>4</td>\n",
              "    </tr>\n",
              "  </tbody>\n",
              "</table>\n",
              "</div>"
            ],
            "text/plain": [
              "   total_bill     sex smoker  day    time  size\n",
              "0       16.99  Female     No  Sun  Dinner     2\n",
              "1       10.34    Male     No  Sun  Dinner     3\n",
              "2       21.01    Male     No  Sun  Dinner     3\n",
              "3       23.68    Male     No  Sun  Dinner     2\n",
              "4       24.59  Female     No  Sun  Dinner     4"
            ]
          },
          "metadata": {
            "tags": []
          },
          "execution_count": 3
        }
      ]
    },
    {
      "cell_type": "markdown",
      "metadata": {
        "id": "Cnc1mLkFfYjB"
      },
      "source": [
        "Y el siguiente script imprime el conjunto de etiquetas."
      ]
    },
    {
      "cell_type": "code",
      "metadata": {
        "colab": {
          "base_uri": "https://localhost:8080/"
        },
        "id": "JKTTqC25fawn",
        "outputId": "4333508a-b91c-4b83-8b33-743d53996761"
      },
      "source": [
        "y.head()"
      ],
      "execution_count": null,
      "outputs": [
        {
          "output_type": "execute_result",
          "data": {
            "text/plain": [
              "0    1.01\n",
              "1    1.66\n",
              "2    3.50\n",
              "3    3.31\n",
              "4    3.61\n",
              "Name: tip, dtype: float64"
            ]
          },
          "metadata": {
            "tags": []
          },
          "execution_count": 4
        }
      ]
    },
    {
      "cell_type": "markdown",
      "metadata": {
        "id": "3yavaQoffd8x"
      },
      "source": [
        "### **3.3. Conversión de datos categóricos en números**\n",
        "\n",
        "Los algoritmos de aprendizaje automático, en su mayor parte, solo pueden funcionar con números. Por lo tanto, es importante convertir los datos categóricos a un formato numérico.\n",
        "\n",
        "En este sentido, el primer paso es crear un conjunto de datos de todos los valores numéricos. Para hacerlo, elimine las columnas categóricas del conjunto de datos, como se muestra a continuación."
      ]
    },
    {
      "cell_type": "code",
      "metadata": {
        "id": "brUoC4kUfg31"
      },
      "source": [
        "#Eliminamos las variables categoricas\r\n",
        "numerical = X.drop([\"sex\" , \"smoker\" , \"day\" , \"time\" ], axis = 1)"
      ],
      "execution_count": null,
      "outputs": []
    },
    {
      "cell_type": "markdown",
      "metadata": {
        "id": "ZZZyeQZ8fjQ4"
      },
      "source": [
        "El resultado a continuación muestra que el marco de datos \"numérico\" contiene sólo columnas numéricas."
      ]
    },
    {
      "cell_type": "code",
      "metadata": {
        "colab": {
          "base_uri": "https://localhost:8080/",
          "height": 204
        },
        "id": "Vrfz4e5XfnYb",
        "outputId": "90c2c77d-94dd-4ab1-979b-a40a884e2a33"
      },
      "source": [
        "#Solo tenemos las variables numéricas\r\n",
        "numerical.head()"
      ],
      "execution_count": null,
      "outputs": [
        {
          "output_type": "execute_result",
          "data": {
            "text/html": [
              "<div>\n",
              "<style scoped>\n",
              "    .dataframe tbody tr th:only-of-type {\n",
              "        vertical-align: middle;\n",
              "    }\n",
              "\n",
              "    .dataframe tbody tr th {\n",
              "        vertical-align: top;\n",
              "    }\n",
              "\n",
              "    .dataframe thead th {\n",
              "        text-align: right;\n",
              "    }\n",
              "</style>\n",
              "<table border=\"1\" class=\"dataframe\">\n",
              "  <thead>\n",
              "    <tr style=\"text-align: right;\">\n",
              "      <th></th>\n",
              "      <th>total_bill</th>\n",
              "      <th>size</th>\n",
              "    </tr>\n",
              "  </thead>\n",
              "  <tbody>\n",
              "    <tr>\n",
              "      <th>0</th>\n",
              "      <td>16.99</td>\n",
              "      <td>2</td>\n",
              "    </tr>\n",
              "    <tr>\n",
              "      <th>1</th>\n",
              "      <td>10.34</td>\n",
              "      <td>3</td>\n",
              "    </tr>\n",
              "    <tr>\n",
              "      <th>2</th>\n",
              "      <td>21.01</td>\n",
              "      <td>3</td>\n",
              "    </tr>\n",
              "    <tr>\n",
              "      <th>3</th>\n",
              "      <td>23.68</td>\n",
              "      <td>2</td>\n",
              "    </tr>\n",
              "    <tr>\n",
              "      <th>4</th>\n",
              "      <td>24.59</td>\n",
              "      <td>4</td>\n",
              "    </tr>\n",
              "  </tbody>\n",
              "</table>\n",
              "</div>"
            ],
            "text/plain": [
              "   total_bill  size\n",
              "0       16.99     2\n",
              "1       10.34     3\n",
              "2       21.01     3\n",
              "3       23.68     2\n",
              "4       24.59     4"
            ]
          },
          "metadata": {
            "tags": []
          },
          "execution_count": 7
        }
      ]
    },
    {
      "cell_type": "markdown",
      "metadata": {
        "id": "6xoYIykhfu-o"
      },
      "source": [
        "A continuación, debe crear un marco de datos que contenga solo columnas categóricas."
      ]
    },
    {
      "cell_type": "code",
      "metadata": {
        "colab": {
          "base_uri": "https://localhost:8080/",
          "height": 204
        },
        "id": "aYzyz_dafxVY",
        "outputId": "533854a4-c7b8-43ae-b9c5-3bddf7944bda"
      },
      "source": [
        "#Guardamos las variables categorica en una variable que se llama categorica\n",
        "categorical = X.filter([\"sex\" , \"smoker\" , \"day\" , \"time\" ])\n",
        "categorical.head()"
      ],
      "execution_count": null,
      "outputs": [
        {
          "output_type": "execute_result",
          "data": {
            "text/html": [
              "<div>\n",
              "<style scoped>\n",
              "    .dataframe tbody tr th:only-of-type {\n",
              "        vertical-align: middle;\n",
              "    }\n",
              "\n",
              "    .dataframe tbody tr th {\n",
              "        vertical-align: top;\n",
              "    }\n",
              "\n",
              "    .dataframe thead th {\n",
              "        text-align: right;\n",
              "    }\n",
              "</style>\n",
              "<table border=\"1\" class=\"dataframe\">\n",
              "  <thead>\n",
              "    <tr style=\"text-align: right;\">\n",
              "      <th></th>\n",
              "      <th>sex</th>\n",
              "      <th>smoker</th>\n",
              "      <th>day</th>\n",
              "      <th>time</th>\n",
              "    </tr>\n",
              "  </thead>\n",
              "  <tbody>\n",
              "    <tr>\n",
              "      <th>0</th>\n",
              "      <td>Female</td>\n",
              "      <td>No</td>\n",
              "      <td>Sun</td>\n",
              "      <td>Dinner</td>\n",
              "    </tr>\n",
              "    <tr>\n",
              "      <th>1</th>\n",
              "      <td>Male</td>\n",
              "      <td>No</td>\n",
              "      <td>Sun</td>\n",
              "      <td>Dinner</td>\n",
              "    </tr>\n",
              "    <tr>\n",
              "      <th>2</th>\n",
              "      <td>Male</td>\n",
              "      <td>No</td>\n",
              "      <td>Sun</td>\n",
              "      <td>Dinner</td>\n",
              "    </tr>\n",
              "    <tr>\n",
              "      <th>3</th>\n",
              "      <td>Male</td>\n",
              "      <td>No</td>\n",
              "      <td>Sun</td>\n",
              "      <td>Dinner</td>\n",
              "    </tr>\n",
              "    <tr>\n",
              "      <th>4</th>\n",
              "      <td>Female</td>\n",
              "      <td>No</td>\n",
              "      <td>Sun</td>\n",
              "      <td>Dinner</td>\n",
              "    </tr>\n",
              "  </tbody>\n",
              "</table>\n",
              "</div>"
            ],
            "text/plain": [
              "      sex smoker  day    time\n",
              "0  Female     No  Sun  Dinner\n",
              "1    Male     No  Sun  Dinner\n",
              "2    Male     No  Sun  Dinner\n",
              "3    Male     No  Sun  Dinner\n",
              "4  Female     No  Sun  Dinner"
            ]
          },
          "metadata": {
            "tags": []
          },
          "execution_count": 8
        }
      ]
    },
    {
      "cell_type": "markdown",
      "metadata": {
        "id": "8DBUvoZRf03w"
      },
      "source": [
        "Uno de los enfoques más comunes para convertir una columna categórica en una numérica es mediante la codificación **one-hot**. En la codificación one-hot, para cada valor único en las columnas originales, se crea una nueva columna. Por ejemplo, para el sexo, se crean dos columnas: Femenino y Masculino. Si la columna de sexo original contenía hombre, se agrega un 1 en la columna Hombre recién creada, y se agrega 0 si es mujer.\n",
        "\n",
        "Sin embargo, se puede observar que realmente no necesitamos dos columnas. Una sola columna, es decir, Mujer es suficiente, ya que cuando un cliente es mujer, podemos agregar 1 en la columna Mujer, de lo contrario, se puede agregar 1 en esa columna. Por lo tanto, necesitamos N-1 columnas codificadas en caliente para todos los N valores en la columna original.\n",
        "\n",
        "El siguiente script convierte columnas categóricas en columnas codificadas en un solo uso utilizando el método `pd.get_dummies ()`."
      ]
    },
    {
      "cell_type": "code",
      "metadata": {
        "colab": {
          "base_uri": "https://localhost:8080/",
          "height": 204
        },
        "id": "ebrzzN5Nf4B5",
        "outputId": "189a729a-73e8-456b-ff27-4a5889787100"
      },
      "source": [
        "import pandas as pd\n",
        "cat_numerical = pd.get_dummies(categorical,drop_first=True)\n",
        "cat_numerical.head()"
      ],
      "execution_count": null,
      "outputs": [
        {
          "output_type": "execute_result",
          "data": {
            "text/html": [
              "<div>\n",
              "<style scoped>\n",
              "    .dataframe tbody tr th:only-of-type {\n",
              "        vertical-align: middle;\n",
              "    }\n",
              "\n",
              "    .dataframe tbody tr th {\n",
              "        vertical-align: top;\n",
              "    }\n",
              "\n",
              "    .dataframe thead th {\n",
              "        text-align: right;\n",
              "    }\n",
              "</style>\n",
              "<table border=\"1\" class=\"dataframe\">\n",
              "  <thead>\n",
              "    <tr style=\"text-align: right;\">\n",
              "      <th></th>\n",
              "      <th>sex_Female</th>\n",
              "      <th>smoker_No</th>\n",
              "      <th>day_Fri</th>\n",
              "      <th>day_Sat</th>\n",
              "      <th>day_Sun</th>\n",
              "      <th>time_Dinner</th>\n",
              "    </tr>\n",
              "  </thead>\n",
              "  <tbody>\n",
              "    <tr>\n",
              "      <th>0</th>\n",
              "      <td>1</td>\n",
              "      <td>1</td>\n",
              "      <td>0</td>\n",
              "      <td>0</td>\n",
              "      <td>1</td>\n",
              "      <td>1</td>\n",
              "    </tr>\n",
              "    <tr>\n",
              "      <th>1</th>\n",
              "      <td>0</td>\n",
              "      <td>1</td>\n",
              "      <td>0</td>\n",
              "      <td>0</td>\n",
              "      <td>1</td>\n",
              "      <td>1</td>\n",
              "    </tr>\n",
              "    <tr>\n",
              "      <th>2</th>\n",
              "      <td>0</td>\n",
              "      <td>1</td>\n",
              "      <td>0</td>\n",
              "      <td>0</td>\n",
              "      <td>1</td>\n",
              "      <td>1</td>\n",
              "    </tr>\n",
              "    <tr>\n",
              "      <th>3</th>\n",
              "      <td>0</td>\n",
              "      <td>1</td>\n",
              "      <td>0</td>\n",
              "      <td>0</td>\n",
              "      <td>1</td>\n",
              "      <td>1</td>\n",
              "    </tr>\n",
              "    <tr>\n",
              "      <th>4</th>\n",
              "      <td>1</td>\n",
              "      <td>1</td>\n",
              "      <td>0</td>\n",
              "      <td>0</td>\n",
              "      <td>1</td>\n",
              "      <td>1</td>\n",
              "    </tr>\n",
              "  </tbody>\n",
              "</table>\n",
              "</div>"
            ],
            "text/plain": [
              "   sex_Female  smoker_No  day_Fri  day_Sat  day_Sun  time_Dinner\n",
              "0           1          1        0        0        1            1\n",
              "1           0          1        0        0        1            1\n",
              "2           0          1        0        0        1            1\n",
              "3           0          1        0        0        1            1\n",
              "4           1          1        0        0        1            1"
            ]
          },
          "metadata": {
            "tags": []
          },
          "execution_count": 9
        }
      ]
    },
    {
      "cell_type": "markdown",
      "metadata": {
        "id": "kV7p779Rf6eL"
      },
      "source": [
        "La salida muestra las columnas codificadas **one-hot** recién creadas.\n",
        "\n",
        "El paso final es unir las columnas numéricas con las columnas codificadas en caliente. Para hacerlo, puede usar la función `concat ()` de la biblioteca Pandas como se muestra a continuación:"
      ]
    },
    {
      "cell_type": "code",
      "metadata": {
        "colab": {
          "base_uri": "https://localhost:8080/",
          "height": 204
        },
        "id": "zxr5rPX6f-8i",
        "outputId": "250611d6-8158-4932-cd3b-df4d265ab568"
      },
      "source": [
        "X = pd.concat([numerical, cat_numerical], axis = 1)\n",
        "X.head()"
      ],
      "execution_count": null,
      "outputs": [
        {
          "output_type": "execute_result",
          "data": {
            "text/html": [
              "<div>\n",
              "<style scoped>\n",
              "    .dataframe tbody tr th:only-of-type {\n",
              "        vertical-align: middle;\n",
              "    }\n",
              "\n",
              "    .dataframe tbody tr th {\n",
              "        vertical-align: top;\n",
              "    }\n",
              "\n",
              "    .dataframe thead th {\n",
              "        text-align: right;\n",
              "    }\n",
              "</style>\n",
              "<table border=\"1\" class=\"dataframe\">\n",
              "  <thead>\n",
              "    <tr style=\"text-align: right;\">\n",
              "      <th></th>\n",
              "      <th>total_bill</th>\n",
              "      <th>size</th>\n",
              "      <th>sex_Female</th>\n",
              "      <th>smoker_No</th>\n",
              "      <th>day_Fri</th>\n",
              "      <th>day_Sat</th>\n",
              "      <th>day_Sun</th>\n",
              "      <th>time_Dinner</th>\n",
              "    </tr>\n",
              "  </thead>\n",
              "  <tbody>\n",
              "    <tr>\n",
              "      <th>0</th>\n",
              "      <td>16.99</td>\n",
              "      <td>2</td>\n",
              "      <td>1</td>\n",
              "      <td>1</td>\n",
              "      <td>0</td>\n",
              "      <td>0</td>\n",
              "      <td>1</td>\n",
              "      <td>1</td>\n",
              "    </tr>\n",
              "    <tr>\n",
              "      <th>1</th>\n",
              "      <td>10.34</td>\n",
              "      <td>3</td>\n",
              "      <td>0</td>\n",
              "      <td>1</td>\n",
              "      <td>0</td>\n",
              "      <td>0</td>\n",
              "      <td>1</td>\n",
              "      <td>1</td>\n",
              "    </tr>\n",
              "    <tr>\n",
              "      <th>2</th>\n",
              "      <td>21.01</td>\n",
              "      <td>3</td>\n",
              "      <td>0</td>\n",
              "      <td>1</td>\n",
              "      <td>0</td>\n",
              "      <td>0</td>\n",
              "      <td>1</td>\n",
              "      <td>1</td>\n",
              "    </tr>\n",
              "    <tr>\n",
              "      <th>3</th>\n",
              "      <td>23.68</td>\n",
              "      <td>2</td>\n",
              "      <td>0</td>\n",
              "      <td>1</td>\n",
              "      <td>0</td>\n",
              "      <td>0</td>\n",
              "      <td>1</td>\n",
              "      <td>1</td>\n",
              "    </tr>\n",
              "    <tr>\n",
              "      <th>4</th>\n",
              "      <td>24.59</td>\n",
              "      <td>4</td>\n",
              "      <td>1</td>\n",
              "      <td>1</td>\n",
              "      <td>0</td>\n",
              "      <td>0</td>\n",
              "      <td>1</td>\n",
              "      <td>1</td>\n",
              "    </tr>\n",
              "  </tbody>\n",
              "</table>\n",
              "</div>"
            ],
            "text/plain": [
              "   total_bill  size  sex_Female  ...  day_Sat  day_Sun  time_Dinner\n",
              "0       16.99     2           1  ...        0        1            1\n",
              "1       10.34     3           0  ...        0        1            1\n",
              "2       21.01     3           0  ...        0        1            1\n",
              "3       23.68     2           0  ...        0        1            1\n",
              "4       24.59     4           1  ...        0        1            1\n",
              "\n",
              "[5 rows x 8 columns]"
            ]
          },
          "metadata": {
            "tags": []
          },
          "execution_count": 10
        }
      ]
    },
    {
      "cell_type": "markdown",
      "metadata": {
        "id": "Bm-2lff0gCit"
      },
      "source": [
        "### **3.4. Divida los datos en conjuntos de prueba y entrenamiento**\n",
        "\n",
        "Después de entrenar un algoritmo de aprendizaje automático, debe evaluarlo para ver qué tan bien funciona con datos invisibles. Por lo tanto, dividimos el conjunto de datos en dos conjuntos, es decir, un conjunto de entrenamiento y un conjunto de prueba. El conjunto de datos se entrena a través del conjunto de entrenamiento y se evalúa en el conjunto de prueba. Para dividir los datos en conjuntos de entrenamiento y prueba, puede usar la función `train_test_split ()` de la biblioteca Sklearn, como se muestra a continuación. El seguimiento El script divide los datos en un conjunto de entrenamiento del 80 por ciento y un conjunto de prueba del 20 por ciento."
      ]
    },
    {
      "cell_type": "code",
      "metadata": {
        "id": "paHQljKxgFMq"
      },
      "source": [
        "from sklearn.model_selection import train_test_split\n",
        "X_train, X_test, y_train, y_test = train_test_split(X, y, test_size=0.20, random_state=0)"
      ],
      "execution_count": null,
      "outputs": []
    },
    {
      "cell_type": "markdown",
      "metadata": {
        "id": "DgmbEEx8gIHe"
      },
      "source": [
        "### **3.5. Escalado / normalización de datos**\n",
        "\n",
        "El paso final (opcional) antes de que los datos se pasen a los algoritmos de aprendizaje automático es escalar los datos. Puede ver que algunas columnas del conjunto de datos contienen valores pequeños, mientras que otras contienen valores muy grandes. Es mejor convertir todos los valores a una escala uniforme. Para hacerlo, puede usar la función `StandardScaler ()` del módulo `sklearn.preprocessing`, como se muestra a continuación:"
      ]
    },
    {
      "cell_type": "code",
      "metadata": {
        "id": "iKlGhPqbgKoc"
      },
      "source": [
        "from sklearn.preprocessing import StandardScaler\n",
        "sc = StandardScaler()\n",
        "#scaling the training set\n",
        "X_train = sc.fit_transform(X_train)\n",
        "#scaling the test set\n",
        "X_test = sc.transform (X_test)"
      ],
      "execution_count": null,
      "outputs": []
    },
    {
      "cell_type": "markdown",
      "metadata": {
        "id": "3ElH86H8gNEX"
      },
      "source": [
        "Hemos convertido los datos a un formato que se puede utilizar para entrenar algoritmos de aprendizaje automático para la regresión desde la biblioteca de Sklearn. Los detalles, incluidas las funcionalidades y el uso de todos los algoritmos de aprendizaje automático."
      ]
    },
    {
      "cell_type": "markdown",
      "metadata": {
        "id": "PxD2UN58e_R0"
      },
      "source": [
        "### **3.6. Implementación del algoritmo KNN con SKlearn**\r\n",
        "\r\n",
        "Con `Sklearn`, es extremadamente fácil implementar la regresión KNN. Para hacerlo, puede usar la clase `KNeighborsRegressor`. El proceso de entrenamiento y prueba es el mismo que el de la regresión lineal. Para el entrenamiento, debe llamar al método `fit ()` y, para las pruebas, debe llamar al método `predict ()`.\r\n",
        "\r\n",
        "El siguiente script muestra el proceso de entrenamiento, prueba y evaluación del algoritmo de regresión KNN para predecir los valores de la columna de sugerencias del conjunto de datos de sugerencias."
      ]
    },
    {
      "cell_type": "code",
      "metadata": {
        "id": "my8cwNfKKwJ4"
      },
      "source": [
        "from sklearn.neighbors import KNeighborsRegressor\n",
        "from sklearn import metrics\n",
        "KNN_reg = KNeighborsRegressor(n_neighbors=5)\n",
        "regressor = KNN_reg.fit(X_train, y_train)\n",
        "y_pred = regressor.predict(X_test)"
      ],
      "execution_count": null,
      "outputs": []
    },
    {
      "cell_type": "markdown",
      "metadata": {
        "id": "P6v9nHtVihcv"
      },
      "source": [
        "### **3.7 Tipos de Metricas**"
      ]
    },
    {
      "cell_type": "markdown",
      "metadata": {
        "id": "tqqXNviZit9-"
      },
      "source": [
        "Una vez que haya entrenado un modelo y haya hecho predicciones en el conjunto de prueba, el siguiente paso es saber qué tan bien se ha desempeñado su modelo para hacer predicciones en el conjunto de prueba desconocido. Hay varias métricas para comprobarlo. Sin embargo, el error absoluto medio, el error cuadrático medio y el error cuadrático medio medio son tres de las métricas más comunes.\n",
        "\n",
        "**Error absoluto medio(Mean Absolute Error MAE)**\n",
        "\n",
        "El error absoluto medio (MAE) se calcula tomando el promedio del error absoluto obtenido al restar los valores reales de los valores predichos. La ecuación para calcular MAE es:\n",
        "\n",
        "$$MAE=\\frac{\\Sigma_{i=1}^{n} |y_i-\\hat{y}|}{n} $$\n",
        "\n",
        "**Error medio cuadrado (Mean Squared Error MSE)**\n",
        "\n",
        "El error cuadrático medio (MSE) es similar al MAE. Sin embargo, el error para cada registro se eleva al cuadrado en el caso de MSE para castigar los registros de datos con una gran diferencia entre los valores predichos y reales. La ecuación para calcular el error cuadrático medio es la siguiente:\n",
        "\n",
        "$$MSE=\\frac{1}{2} \\Sigma_{i=1}^{n} (y_i-\\hat{y})^2 $$\n",
        "\n",
        "**Root Mean Squared Error**\n",
        "\n",
        "El error cuadrático medio es simplemente la raíz inferior del error cuadrático medio y se puede calcular de la siguiente manera:\n",
        "\n",
        "$$RMSE=\\sqrt{\\frac{1}{n} \\Sigma_{i=1}^{n} (y_i-\\hat{y})^2  } $$\n",
        "\n",
        "Los métodos utilizados para encontrar el valor de estas métricas están disponibles en la clase `sklearn.metrics`. Los valores predichos y reales deben pasarse a estos métodos, como se muestra en el resultado."
      ]
    },
    {
      "cell_type": "markdown",
      "metadata": {
        "id": "aITJD5fUgnAf"
      },
      "source": [
        "#### **3.7.1 CalculO de Metrica**"
      ]
    },
    {
      "cell_type": "code",
      "metadata": {
        "colab": {
          "base_uri": "https://localhost:8080/"
        },
        "id": "VpX_vNFEiESY",
        "outputId": "6fa25fa5-f04a-44b8-bcf0-7fb1261b8b8a"
      },
      "source": [
        "# The mean squared error\r\n",
        "from sklearn.metrics import mean_squared_error, r2_score\r\n",
        "from sklearn import metrics\r\n",
        "print (\"Mean Absolute Error:\" , metrics.mean_absolute_error(y_test, y_pred))\r\n",
        "print (\"Mean Squared Error:\" , metrics.mean_squared_error(y_test, y_pred))\r\n",
        "print (\"Root Mean Squared Error:\" , np.sqrt(metrics.mean_squared_error(y_test, y_pred)))"
      ],
      "execution_count": null,
      "outputs": [
        {
          "output_type": "stream",
          "text": [
            "Mean Absolute Error: 0.7966122448979591\n",
            "Mean Squared Error: 1.1536601632653058\n",
            "Root Mean Squared Error: 1.0740857336662217\n"
          ],
          "name": "stdout"
        }
      ]
    },
    {
      "cell_type": "markdown",
      "metadata": {
        "id": "-4r2lnYajcuE"
      },
      "source": [
        "Aquí está la salida. Al observar el error absoluto medio, se puede concluir que, en promedio, hay un error de 0,70 para las predicciones, lo que significa que, en promedio, los valores de propina predichos son 0,70 $ más o menos que los valores de propina reales."
      ]
    },
    {
      "cell_type": "markdown",
      "metadata": {
        "id": "50TIfIxF3O86"
      },
      "source": [
        "### **3.8 Calculo de K-vecinos contra RMSE**\r\n",
        "\r\n",
        "**Elegir un valor K**\r\n",
        "\r\n",
        "Sigamos adelante y usemos el método del codo para elegir un buen valor K. Básicamente, comprobaremos la tasa de error de $k = 1$ para decir $k = 20$. Para cada valor de $k$ llamaremos clasificador KNN y luego elegiremos el valor de $k$ que tenga la menor tasa de error."
      ]
    },
    {
      "cell_type": "code",
      "metadata": {
        "colab": {
          "base_uri": "https://localhost:8080/"
        },
        "id": "j7NcClaCzhib",
        "outputId": "afd1430e-1ddf-4c3a-abdf-bb3b683145e1"
      },
      "source": [
        "from sklearn import neighbors\r\n",
        "from sklearn.metrics import mean_squared_error \r\n",
        "from math import sqrt\r\n",
        "import matplotlib.pyplot as plt\r\n",
        "%matplotlib inline\r\n",
        "\r\n",
        "rmse_val = [] #para almacenar valores rmse para diferentes k\r\n",
        "for K in range(20):\r\n",
        "    K = K+1\r\n",
        "    model = neighbors.KNeighborsRegressor(n_neighbors = K)\r\n",
        "\r\n",
        "    model.fit(X_train, y_train)  #fit the model\r\n",
        "    pred=model.predict(X_test) #hacer predicciones en el equipo de prueba\r\n",
        "    error = sqrt(mean_squared_error(y_test,pred)) #calculate rmse\r\n",
        "    rmse_val.append(error) #store rmse values\r\n",
        "    print('RMSE value for k= ' , K , 'is:', error)"
      ],
      "execution_count": null,
      "outputs": [
        {
          "output_type": "stream",
          "text": [
            "RMSE value for k=  1 is: 1.3148764200486676\n",
            "RMSE value for k=  2 is: 1.230593228438037\n",
            "RMSE value for k=  3 is: 1.0443771266963098\n",
            "RMSE value for k=  4 is: 1.0601847523821843\n",
            "RMSE value for k=  5 is: 1.0740857336662217\n",
            "RMSE value for k=  6 is: 1.0708658575224332\n",
            "RMSE value for k=  7 is: 1.0184186523414136\n",
            "RMSE value for k=  8 is: 0.9910711550836173\n",
            "RMSE value for k=  9 is: 0.9849949833161458\n",
            "RMSE value for k=  10 is: 0.9382998846154612\n",
            "RMSE value for k=  11 is: 0.9699713443385405\n",
            "RMSE value for k=  12 is: 0.9602057499304752\n",
            "RMSE value for k=  13 is: 0.971298857631808\n",
            "RMSE value for k=  14 is: 0.9774167763901161\n",
            "RMSE value for k=  15 is: 0.9790011384186145\n",
            "RMSE value for k=  16 is: 0.9638241041284347\n",
            "RMSE value for k=  17 is: 0.9710047162022872\n",
            "RMSE value for k=  18 is: 0.9880393303492307\n",
            "RMSE value for k=  19 is: 0.980110127978323\n",
            "RMSE value for k=  20 is: 0.98540073946945\n"
          ],
          "name": "stdout"
        }
      ]
    },
    {
      "cell_type": "code",
      "metadata": {
        "colab": {
          "base_uri": "https://localhost:8080/",
          "height": 421
        },
        "id": "yc7M4Oqy8SgJ",
        "outputId": "98c93689-3577-4c53-e506-1896d5128ee2"
      },
      "source": [
        "plt.figure(figsize=(10,6))\r\n",
        "plt.plot(rmse_val ,color=\"blue\", linestyle=\"dashed\", marker=\"o\", markerfacecolor=\"red\", markersize=10)\r\n",
        "plt.title('RMSE vs. K Value')\r\n",
        "plt.xlabel('K')\r\n",
        "plt.ylabel('Error Rate')"
      ],
      "execution_count": null,
      "outputs": [
        {
          "output_type": "execute_result",
          "data": {
            "text/plain": [
              "Text(0, 0.5, 'Error Rate')"
            ]
          },
          "metadata": {
            "tags": []
          },
          "execution_count": 40
        },
        {
          "output_type": "display_data",
          "data": {
            "image/png": "[encoded data removed]",
            "text/plain": [
              "<Figure size 720x432 with 1 Axes>"
            ]
          },
          "metadata": {
            "tags": [],
            "needs_background": "light"
          }
        }
      ]
    },
    {
      "cell_type": "code",
      "metadata": {
        "colab": {
          "base_uri": "https://localhost:8080/",
          "height": 282
        },
        "id": "NTXNqcmN1hWH",
        "outputId": "d0a4cb49-debc-4792-c018-5cba70fe1945"
      },
      "source": [
        "#graficar los valores rmse contra k valores\r\n",
        "curve = pd.DataFrame(rmse_val) #elbow curve \r\n",
        "\r\n",
        "curve.plot()"
      ],
      "execution_count": null,
      "outputs": [
        {
          "output_type": "execute_result",
          "data": {
            "text/plain": [
              "<matplotlib.axes._subplots.AxesSubplot at 0x7f8ec9ac2358>"
            ]
          },
          "metadata": {
            "tags": []
          },
          "execution_count": 17
        },
        {
          "output_type": "display_data",
          "data": {
            "image/png": "[encoded data removed]",
            "text/plain": [
              "<Figure size 432x288 with 1 Axes>"
            ]
          },
          "metadata": {
            "tags": [],
            "needs_background": "light"
          }
        }
      ]
    },
    {
      "cell_type": "markdown",
      "metadata": {
        "id": "NeRFCF0k1umy"
      },
      "source": [
        "Como comentamos, cuando tomamos $k = 1$, obtenemos un valor **RMSE** relativamente alto. El valor de RMSE disminuye a medida que aumentamos el valor de $k$. En $k = 8$, el RMSE es aproximadamente 0.9910 y se dispara al aumentar aún más el valor de $k$. Podemos decir con seguridad que $k = 10$ nos dará el mejor resultado en este caso."
      ]
    },
    {
      "cell_type": "markdown",
      "metadata": {
        "id": "aZg3B4Wh36EZ"
      },
      "source": [
        "### **3.9 Implementación de GridsearchCV**\r\n",
        "Para decidir el valor de k, trazar la curva del codo cada vez es un proceso engorroso y tedioso. Simplemente puede usar gridsearch para encontrar el mejor valor."
      ]
    },
    {
      "cell_type": "code",
      "metadata": {
        "colab": {
          "base_uri": "https://localhost:8080/"
        },
        "id": "EBSRbkRT4GeS",
        "outputId": "1df8b502-e9bf-4e23-dcac-f5ec70236ec0"
      },
      "source": [
        "from sklearn.model_selection import GridSearchCV\r\n",
        "params = {'n_neighbors':[2,3,4,5,6,7,8,9,10]}\r\n",
        "\r\n",
        "knn = neighbors.KNeighborsRegressor()\r\n",
        "\r\n",
        "model = GridSearchCV(knn, params, cv=5)\r\n",
        "model.fit(X_train,y_train)\r\n",
        "model.best_params_"
      ],
      "execution_count": null,
      "outputs": [
        {
          "output_type": "execute_result",
          "data": {
            "text/plain": [
              "{'n_neighbors': 9}"
            ]
          },
          "metadata": {
            "tags": []
          },
          "execution_count": 42
        }
      ]
    },
    {
      "cell_type": "markdown",
      "metadata": {
        "id": "I1XREpFoKwJ6"
      },
      "source": [
        "## **4. Random Forest Regresión**\n",
        "\n",
        "El bosque aleatorio es un algoritmo basado en árboles que convierte características en nodos de árbol y luego usa la pérdida de entropía para hacer predicciones.\n",
        "\n",
        "**¿Por qué utilizar algoritmos de bosque aleatorio?**\n",
        "\n",
        "Los algoritmos de bosque aleatorio son particularmente útiles cuando:\n",
        "\n",
        "1. Tiene muchos datos faltantes o un conjunto de datos desequilibrado.\n",
        "2. Con una gran cantidad de árboles, puede evitar el sobreajuste durante el entrenamiento. El sobreajuste ocurre cuando los modelos de aprendizaje automático funcionan mejor en el conjunto de entrenamiento pero en el conjunto de prueba.\n",
        "3. El algoritmo de bosque aleatorio se puede utilizar cuando tiene datos dimensionales muy altos.\n",
        "4. A través de la validación cruzada, el algoritmo de bosque aleatorio puede devolver mayor acc\n",
        "5. El algoritmo de bosque aleatorio puede resolver tanto la clasificación como la regresión y encuentra su aplicación en una variedad de tareas que van desde la detección de fraude con tarjetas de crédito, la predicción del mercado de valores y la búsqueda de transacciones fraudulentas en línea.\n",
        "\n",
        "**Desventajas de los algoritmos de bosque aleatorio**\n",
        "\n",
        "Hay dos desventajas principales de los algoritmos de bosque aleatorio:\n",
        "\n",
        "1. El uso de una gran cantidad de árboles puede ralentizar el algoritmo.\n",
        "2. El algoritmo de bosque aleatorio es un algoritmo predictivo, que solo puede predecir el futuro y no puede explicar lo que sucedió en el pasado utilizando el conjunto de datos."
      ]
    },
    {
      "cell_type": "markdown",
      "metadata": {
        "id": "qa2PtTmhkapH"
      },
      "source": [
        "### **4.1. Preparación de datos para problemas de regresión.**\r\n",
        "\r\n",
        "Los algoritmos de aprendizaje automático requieren que los datos estén en un formato determinado antes de que los algoritmos puedan entrenarse con los datos. En esta sección, verá varios pasos de preprocesamiento de datos que debe realizar antes de poder entrenar algoritmos de aprendizaje automático utilizando la biblioteca `Sklearn`.\r\n",
        "\r\n",
        "El conjuntos de datos que vamos a utilizar en esta sección están disponibles de forma predeterminada en la biblioteca de `Seaborn`. Para ver todos los conjuntos de datos, puede usar la función `get_dataset_names ()` como se muestra en el siguiente script:"
      ]
    },
    {
      "cell_type": "code",
      "metadata": {
        "id": "Vlk-Xkjjkjqg"
      },
      "source": [
        "import pandas as pd\n",
        "import numpy as np\n",
        "import seaborn as sns\n",
        "sns.get_dataset_names()"
      ],
      "execution_count": null,
      "outputs": []
    },
    {
      "cell_type": "markdown",
      "metadata": {
        "id": "cBTCf2bNkmCs"
      },
      "source": [
        "Para leer un conjunto de datos en particular en el marco de datos de Pandas, pase el nombre del conjunto de datos al método `load_dataset ()` de la biblioteca Seaborn.\n",
        "\n",
        "La siguiente secuencia de comandos carga el conjunto de datos *Tips* y muestra sus primeras cinco filas."
      ]
    },
    {
      "cell_type": "code",
      "metadata": {
        "id": "1iAm5dNckpHa"
      },
      "source": [
        "tips_df = sns.load_dataset(\"tips\")\n",
        "tips_df.head()"
      ],
      "execution_count": null,
      "outputs": []
    },
    {
      "cell_type": "markdown",
      "metadata": {
        "id": "hlIZrrz1krkC"
      },
      "source": [
        "En este capítulo, trabajaremos con el conjunto de datos Tips. Usaremos algoritmos de aprendizaje automático para predecir la **Tip** \"propina\" de un registro en particular, en función de las características restantes, como \"factura_total\", \"sexo\", \"día\", \"hora\", etc.\n",
        "\n",
        "### **4.2  División de datos en funciones y etiquetas**\n",
        "\n",
        "Como primer paso, dividimos los datos en conjuntos de características y etiquetas. Nuestro conjunto de etiquetas consta de valores de la columna \"propina\", mientras que el conjunto de características consta de valores de las columnas restantes. El siguiente script divide los datos en conjuntos de características y etiquetas."
      ]
    },
    {
      "cell_type": "code",
      "metadata": {
        "id": "G9QDZuv7kz4k"
      },
      "source": [
        "X = tips_df.drop([\"tip\"], axis=1)\n",
        "y = tips_df[\"tip\"]\n",
        "#visualizamos los datos\n",
        "X.head()"
      ],
      "execution_count": null,
      "outputs": []
    },
    {
      "cell_type": "markdown",
      "metadata": {
        "id": "vRvWwuZqk2xN"
      },
      "source": [
        "Y el siguiente script imprime el conjunto de etiquetas."
      ]
    },
    {
      "cell_type": "code",
      "metadata": {
        "colab": {
          "base_uri": "https://localhost:8080/"
        },
        "id": "mKYWkuPtk5I7",
        "outputId": "0a744819-df21-4167-d5f2-abf4c2e17e0b"
      },
      "source": [
        "y.head()"
      ],
      "execution_count": null,
      "outputs": [
        {
          "output_type": "execute_result",
          "data": {
            "text/plain": [
              "0    1.01\n",
              "1    1.66\n",
              "2    3.50\n",
              "3    3.31\n",
              "4    3.61\n",
              "Name: tip, dtype: float64"
            ]
          },
          "metadata": {
            "tags": []
          },
          "execution_count": 6
        }
      ]
    },
    {
      "cell_type": "markdown",
      "metadata": {
        "id": "uyDdcHIOk-Fs"
      },
      "source": [
        "### **4.3. Conversión de datos categóricos en números**\n",
        "\n",
        "Los algoritmos de aprendizaje automático, en su mayor parte, solo pueden funcionar con números. Por lo tanto, es importante convertir los datos categóricos a un formato numérico.\n",
        "\n",
        "En este sentido, el primer paso es crear un conjunto de datos de todos los valores numéricos. Para hacerlo, elimine las columnas categóricas del conjunto de datos, como se muestra a continuación."
      ]
    },
    {
      "cell_type": "code",
      "metadata": {
        "id": "wz8r5r0UlAaV"
      },
      "source": [
        "#Eliminamos las variables categoricas\r\n",
        "numerical = X.drop([\"sex\" , \"smoker\" , \"day\" , \"time\" ], axis = 1)"
      ],
      "execution_count": null,
      "outputs": []
    },
    {
      "cell_type": "markdown",
      "metadata": {
        "id": "ub0makX_lCqT"
      },
      "source": [
        "El resultado a continuación muestra que el marco de datos \"numérico\" contiene sólo columnas numéricas."
      ]
    },
    {
      "cell_type": "code",
      "metadata": {
        "colab": {
          "base_uri": "https://localhost:8080/"
        },
        "id": "fwUPvSTRlFx_",
        "outputId": "62f2626d-5978-447c-93cb-2b82b916cd7c"
      },
      "source": [
        "#Solo tenemos las variables numéricas\r\n",
        "numerical.head()"
      ],
      "execution_count": null,
      "outputs": [
        {
          "output_type": "execute_result",
          "data": {
            "text/html": [
              "<div>\n",
              "<style scoped>\n",
              "    .dataframe tbody tr th:only-of-type {\n",
              "        vertical-align: middle;\n",
              "    }\n",
              "\n",
              "    .dataframe tbody tr th {\n",
              "        vertical-align: top;\n",
              "    }\n",
              "\n",
              "    .dataframe thead th {\n",
              "        text-align: right;\n",
              "    }\n",
              "</style>\n",
              "<table border=\"1\" class=\"dataframe\">\n",
              "  <thead>\n",
              "    <tr style=\"text-align: right;\">\n",
              "      <th></th>\n",
              "      <th>total_bill</th>\n",
              "      <th>size</th>\n",
              "    </tr>\n",
              "  </thead>\n",
              "  <tbody>\n",
              "    <tr>\n",
              "      <th>0</th>\n",
              "      <td>16.99</td>\n",
              "      <td>2</td>\n",
              "    </tr>\n",
              "    <tr>\n",
              "      <th>1</th>\n",
              "      <td>10.34</td>\n",
              "      <td>3</td>\n",
              "    </tr>\n",
              "    <tr>\n",
              "      <th>2</th>\n",
              "      <td>21.01</td>\n",
              "      <td>3</td>\n",
              "    </tr>\n",
              "    <tr>\n",
              "      <th>3</th>\n",
              "      <td>23.68</td>\n",
              "      <td>2</td>\n",
              "    </tr>\n",
              "    <tr>\n",
              "      <th>4</th>\n",
              "      <td>24.59</td>\n",
              "      <td>4</td>\n",
              "    </tr>\n",
              "  </tbody>\n",
              "</table>\n",
              "</div>"
            ],
            "text/plain": [
              "   total_bill  size\n",
              "0       16.99     2\n",
              "1       10.34     3\n",
              "2       21.01     3\n",
              "3       23.68     2\n",
              "4       24.59     4"
            ]
          },
          "metadata": {
            "tags": []
          },
          "execution_count": 8
        }
      ]
    },
    {
      "cell_type": "markdown",
      "metadata": {
        "id": "8J89ZkVVlJaN"
      },
      "source": [
        "A continuación, debe crear un marco de datos que contenga solo columnas categóricas."
      ]
    },
    {
      "cell_type": "code",
      "metadata": {
        "colab": {
          "base_uri": "https://localhost:8080/"
        },
        "id": "XyQjcOlJlLeQ",
        "outputId": "ae4f9581-33a6-4d1f-959b-5409d57f6f95"
      },
      "source": [
        "#Guardamos las variables categorica en una variable que se llama categorica\n",
        "categorical = X.filter([\"sex\" , \"smoker\" , \"day\" , \"time\" ])\n",
        "categorical.head()"
      ],
      "execution_count": null,
      "outputs": [
        {
          "output_type": "execute_result",
          "data": {
            "text/html": [
              "<div>\n",
              "<style scoped>\n",
              "    .dataframe tbody tr th:only-of-type {\n",
              "        vertical-align: middle;\n",
              "    }\n",
              "\n",
              "    .dataframe tbody tr th {\n",
              "        vertical-align: top;\n",
              "    }\n",
              "\n",
              "    .dataframe thead th {\n",
              "        text-align: right;\n",
              "    }\n",
              "</style>\n",
              "<table border=\"1\" class=\"dataframe\">\n",
              "  <thead>\n",
              "    <tr style=\"text-align: right;\">\n",
              "      <th></th>\n",
              "      <th>sex</th>\n",
              "      <th>smoker</th>\n",
              "      <th>day</th>\n",
              "      <th>time</th>\n",
              "    </tr>\n",
              "  </thead>\n",
              "  <tbody>\n",
              "    <tr>\n",
              "      <th>0</th>\n",
              "      <td>Female</td>\n",
              "      <td>No</td>\n",
              "      <td>Sun</td>\n",
              "      <td>Dinner</td>\n",
              "    </tr>\n",
              "    <tr>\n",
              "      <th>1</th>\n",
              "      <td>Male</td>\n",
              "      <td>No</td>\n",
              "      <td>Sun</td>\n",
              "      <td>Dinner</td>\n",
              "    </tr>\n",
              "    <tr>\n",
              "      <th>2</th>\n",
              "      <td>Male</td>\n",
              "      <td>No</td>\n",
              "      <td>Sun</td>\n",
              "      <td>Dinner</td>\n",
              "    </tr>\n",
              "    <tr>\n",
              "      <th>3</th>\n",
              "      <td>Male</td>\n",
              "      <td>No</td>\n",
              "      <td>Sun</td>\n",
              "      <td>Dinner</td>\n",
              "    </tr>\n",
              "    <tr>\n",
              "      <th>4</th>\n",
              "      <td>Female</td>\n",
              "      <td>No</td>\n",
              "      <td>Sun</td>\n",
              "      <td>Dinner</td>\n",
              "    </tr>\n",
              "  </tbody>\n",
              "</table>\n",
              "</div>"
            ],
            "text/plain": [
              "      sex smoker  day    time\n",
              "0  Female     No  Sun  Dinner\n",
              "1    Male     No  Sun  Dinner\n",
              "2    Male     No  Sun  Dinner\n",
              "3    Male     No  Sun  Dinner\n",
              "4  Female     No  Sun  Dinner"
            ]
          },
          "metadata": {
            "tags": []
          },
          "execution_count": 9
        }
      ]
    },
    {
      "cell_type": "markdown",
      "metadata": {
        "id": "ZRFc5bzBlQ3x"
      },
      "source": [
        "Uno de los enfoques más comunes para convertir una columna categórica en una numérica es mediante la codificación **one-hot**. En la codificación one-hot, para cada valor único en las columnas originales, se crea una nueva columna. Por ejemplo, para el sexo, se crean dos columnas: Femenino y Masculino. Si la columna de sexo original contenía hombre, se agrega un 1 en la columna Hombre recién creada, y se agrega 0 si es mujer.\n",
        "\n",
        "Sin embargo, se puede observar que realmente no necesitamos dos columnas. Una sola columna, es decir, Mujer es suficiente, ya que cuando un cliente es mujer, podemos agregar 1 en la columna Mujer, de lo contrario, se puede agregar 1 en esa columna. Por lo tanto, necesitamos N-1 columnas codificadas en caliente para todos los N valores en la columna original.\n",
        "\n",
        "El siguiente script convierte columnas categóricas en columnas codificadas en un solo uso utilizando el método `pd.get_dummies ()`."
      ]
    },
    {
      "cell_type": "code",
      "metadata": {
        "colab": {
          "base_uri": "https://localhost:8080/"
        },
        "id": "DwiY6uGjlTyl",
        "outputId": "199b9d41-da13-4f20-ca83-d18c71ab3030"
      },
      "source": [
        "import pandas as pd\n",
        "cat_numerical = pd.get_dummies(categorical,drop_first=True)\n",
        "cat_numerical.head()"
      ],
      "execution_count": null,
      "outputs": [
        {
          "output_type": "execute_result",
          "data": {
            "text/html": [
              "<div>\n",
              "<style scoped>\n",
              "    .dataframe tbody tr th:only-of-type {\n",
              "        vertical-align: middle;\n",
              "    }\n",
              "\n",
              "    .dataframe tbody tr th {\n",
              "        vertical-align: top;\n",
              "    }\n",
              "\n",
              "    .dataframe thead th {\n",
              "        text-align: right;\n",
              "    }\n",
              "</style>\n",
              "<table border=\"1\" class=\"dataframe\">\n",
              "  <thead>\n",
              "    <tr style=\"text-align: right;\">\n",
              "      <th></th>\n",
              "      <th>sex_Female</th>\n",
              "      <th>smoker_No</th>\n",
              "      <th>day_Fri</th>\n",
              "      <th>day_Sat</th>\n",
              "      <th>day_Sun</th>\n",
              "      <th>time_Dinner</th>\n",
              "    </tr>\n",
              "  </thead>\n",
              "  <tbody>\n",
              "    <tr>\n",
              "      <th>0</th>\n",
              "      <td>1</td>\n",
              "      <td>1</td>\n",
              "      <td>0</td>\n",
              "      <td>0</td>\n",
              "      <td>1</td>\n",
              "      <td>1</td>\n",
              "    </tr>\n",
              "    <tr>\n",
              "      <th>1</th>\n",
              "      <td>0</td>\n",
              "      <td>1</td>\n",
              "      <td>0</td>\n",
              "      <td>0</td>\n",
              "      <td>1</td>\n",
              "      <td>1</td>\n",
              "    </tr>\n",
              "    <tr>\n",
              "      <th>2</th>\n",
              "      <td>0</td>\n",
              "      <td>1</td>\n",
              "      <td>0</td>\n",
              "      <td>0</td>\n",
              "      <td>1</td>\n",
              "      <td>1</td>\n",
              "    </tr>\n",
              "    <tr>\n",
              "      <th>3</th>\n",
              "      <td>0</td>\n",
              "      <td>1</td>\n",
              "      <td>0</td>\n",
              "      <td>0</td>\n",
              "      <td>1</td>\n",
              "      <td>1</td>\n",
              "    </tr>\n",
              "    <tr>\n",
              "      <th>4</th>\n",
              "      <td>1</td>\n",
              "      <td>1</td>\n",
              "      <td>0</td>\n",
              "      <td>0</td>\n",
              "      <td>1</td>\n",
              "      <td>1</td>\n",
              "    </tr>\n",
              "  </tbody>\n",
              "</table>\n",
              "</div>"
            ],
            "text/plain": [
              "   sex_Female  smoker_No  day_Fri  day_Sat  day_Sun  time_Dinner\n",
              "0           1          1        0        0        1            1\n",
              "1           0          1        0        0        1            1\n",
              "2           0          1        0        0        1            1\n",
              "3           0          1        0        0        1            1\n",
              "4           1          1        0        0        1            1"
            ]
          },
          "metadata": {
            "tags": []
          },
          "execution_count": 10
        }
      ]
    },
    {
      "cell_type": "markdown",
      "metadata": {
        "id": "FTk_AHIglXwT"
      },
      "source": [
        "La salida muestra las columnas codificadas **one-hot** recién creadas.\n",
        "\n",
        "El paso final es unir las columnas numéricas con las columnas codificadas en caliente. Para hacerlo, puede usar la función `concat ()` de la biblioteca Pandas como se muestra a continuación:"
      ]
    },
    {
      "cell_type": "code",
      "metadata": {
        "colab": {
          "base_uri": "https://localhost:8080/"
        },
        "id": "TbA1rVzilZ9S",
        "outputId": "784d8bc1-1915-4449-9f67-3a853e0f049f"
      },
      "source": [
        "X = pd.concat([numerical, cat_numerical], axis = 1)\n",
        "X.head()"
      ],
      "execution_count": null,
      "outputs": [
        {
          "output_type": "execute_result",
          "data": {
            "text/html": [
              "<div>\n",
              "<style scoped>\n",
              "    .dataframe tbody tr th:only-of-type {\n",
              "        vertical-align: middle;\n",
              "    }\n",
              "\n",
              "    .dataframe tbody tr th {\n",
              "        vertical-align: top;\n",
              "    }\n",
              "\n",
              "    .dataframe thead th {\n",
              "        text-align: right;\n",
              "    }\n",
              "</style>\n",
              "<table border=\"1\" class=\"dataframe\">\n",
              "  <thead>\n",
              "    <tr style=\"text-align: right;\">\n",
              "      <th></th>\n",
              "      <th>total_bill</th>\n",
              "      <th>size</th>\n",
              "      <th>sex_Female</th>\n",
              "      <th>smoker_No</th>\n",
              "      <th>day_Fri</th>\n",
              "      <th>day_Sat</th>\n",
              "      <th>day_Sun</th>\n",
              "      <th>time_Dinner</th>\n",
              "    </tr>\n",
              "  </thead>\n",
              "  <tbody>\n",
              "    <tr>\n",
              "      <th>0</th>\n",
              "      <td>16.99</td>\n",
              "      <td>2</td>\n",
              "      <td>1</td>\n",
              "      <td>1</td>\n",
              "      <td>0</td>\n",
              "      <td>0</td>\n",
              "      <td>1</td>\n",
              "      <td>1</td>\n",
              "    </tr>\n",
              "    <tr>\n",
              "      <th>1</th>\n",
              "      <td>10.34</td>\n",
              "      <td>3</td>\n",
              "      <td>0</td>\n",
              "      <td>1</td>\n",
              "      <td>0</td>\n",
              "      <td>0</td>\n",
              "      <td>1</td>\n",
              "      <td>1</td>\n",
              "    </tr>\n",
              "    <tr>\n",
              "      <th>2</th>\n",
              "      <td>21.01</td>\n",
              "      <td>3</td>\n",
              "      <td>0</td>\n",
              "      <td>1</td>\n",
              "      <td>0</td>\n",
              "      <td>0</td>\n",
              "      <td>1</td>\n",
              "      <td>1</td>\n",
              "    </tr>\n",
              "    <tr>\n",
              "      <th>3</th>\n",
              "      <td>23.68</td>\n",
              "      <td>2</td>\n",
              "      <td>0</td>\n",
              "      <td>1</td>\n",
              "      <td>0</td>\n",
              "      <td>0</td>\n",
              "      <td>1</td>\n",
              "      <td>1</td>\n",
              "    </tr>\n",
              "    <tr>\n",
              "      <th>4</th>\n",
              "      <td>24.59</td>\n",
              "      <td>4</td>\n",
              "      <td>1</td>\n",
              "      <td>1</td>\n",
              "      <td>0</td>\n",
              "      <td>0</td>\n",
              "      <td>1</td>\n",
              "      <td>1</td>\n",
              "    </tr>\n",
              "  </tbody>\n",
              "</table>\n",
              "</div>"
            ],
            "text/plain": [
              "   total_bill  size  sex_Female  ...  day_Sat  day_Sun  time_Dinner\n",
              "0       16.99     2           1  ...        0        1            1\n",
              "1       10.34     3           0  ...        0        1            1\n",
              "2       21.01     3           0  ...        0        1            1\n",
              "3       23.68     2           0  ...        0        1            1\n",
              "4       24.59     4           1  ...        0        1            1\n",
              "\n",
              "[5 rows x 8 columns]"
            ]
          },
          "metadata": {
            "tags": []
          },
          "execution_count": 11
        }
      ]
    },
    {
      "cell_type": "markdown",
      "metadata": {
        "id": "gbPqEnYllecS"
      },
      "source": [
        "### **4.4. Divida los datos en conjuntos de prueba y entrenamiento**\n",
        "\n",
        "Después de entrenar un algoritmo de aprendizaje automático, debe evaluarlo para ver qué tan bien funciona con datos invisibles. Por lo tanto, dividimos el conjunto de datos en dos conjuntos, es decir, un conjunto de entrenamiento y un conjunto de prueba. El conjunto de datos se entrena a través del conjunto de entrenamiento y se evalúa en el conjunto de prueba. Para dividir los datos en conjuntos de entrenamiento y prueba, puede usar la función `train_test_split ()` de la biblioteca Sklearn, como se muestra a continuación. El seguimiento El script divide los datos en un conjunto de entrenamiento del 80 por ciento y un conjunto de prueba del 20 por ciento."
      ]
    },
    {
      "cell_type": "code",
      "metadata": {
        "id": "KikQFE-Clg6f"
      },
      "source": [
        "from sklearn.model_selection import train_test_split\n",
        "X_train, X_test, y_train, y_test = train_test_split(X, y, test_size=0.20, random_state=0)"
      ],
      "execution_count": null,
      "outputs": []
    },
    {
      "cell_type": "markdown",
      "metadata": {
        "id": "iKAtsaHvljOG"
      },
      "source": [
        "### **4.5. Escalado / normalización de datos**\n",
        "\n",
        "El paso final (opcional) antes de que los datos se pasen a los algoritmos de aprendizaje automático es escalar los datos. Puede ver que algunas columnas del conjunto de datos contienen valores pequeños, mientras que otras contienen valores muy grandes. Es mejor convertir todos los valores a una escala uniforme. Para hacerlo, puede usar la función `StandardScaler ()` del módulo `sklearn.preprocessing`, como se muestra a continuación:"
      ]
    },
    {
      "cell_type": "code",
      "metadata": {
        "id": "RGQ4_UvNlmA3"
      },
      "source": [
        "from sklearn.preprocessing import StandardScaler\n",
        "sc = StandardScaler()\n",
        "#scaling the training set\n",
        "X_train = sc.fit_transform(X_train)\n",
        "#scaling the test set\n",
        "X_test = sc.transform (X_test)"
      ],
      "execution_count": null,
      "outputs": []
    },
    {
      "cell_type": "markdown",
      "metadata": {
        "id": "O8Fz9kBilorD"
      },
      "source": [
        "Hemos convertido los datos a un formato que se puede utilizar para entrenar algoritmos de aprendizaje automático para la regresión desde la biblioteca de Sklearn. Los detalles, incluidas las funcionalidades y el uso de todos los algoritmos de aprendizaje automático."
      ]
    },
    {
      "cell_type": "markdown",
      "metadata": {
        "id": "IDArzmecjrGZ"
      },
      "source": [
        "### **4.6 Implementación de un regresor de bosque aleatorio mediante Sklearn**\r\n",
        "\r\n",
        "La clase `RandomForestRegressor` del módulo Sklearn.ensemble se puede usar para implementar algoritmos de regresores forestales aleatorios, como se muestra a continuación."
      ]
    },
    {
      "cell_type": "code",
      "metadata": {
        "id": "y7mlo_B7KwJ-",
        "colab": {
          "base_uri": "https://localhost:8080/"
        },
        "outputId": "44c56d51-bd7c-4054-e9ad-01dddbad8c29"
      },
      "source": [
        "# training and testing the random forest\n",
        "from sklearn.ensemble import RandomForestRegressor\n",
        "rf_reg = RandomForestRegressor(random_state=42, n_estimators=500)\n",
        "regressor = rf_reg.fit(X_train, y_train)\n",
        "y_pred = regressor.predict(X_test)"
      ],
      "execution_count": null,
      "outputs": [
        {
          "output_type": "stream",
          "text": [
            "Mean Absolute Error: 0.7054065306122449\n",
            "Mean Squared Error: 0.8045782841306138\n",
            "Root Mean Squared Error: 0.8969828783932354\n"
          ],
          "name": "stdout"
        }
      ]
    },
    {
      "cell_type": "markdown",
      "metadata": {
        "id": "Xn1e0eKfmFzf"
      },
      "source": [
        "### **4.7 Tipos de Metricas**"
      ]
    },
    {
      "cell_type": "markdown",
      "metadata": {
        "id": "QpbGajyomK-e"
      },
      "source": [
        "Una vez que haya entrenado un modelo y haya hecho predicciones en el conjunto de prueba, el siguiente paso es saber qué tan bien se ha desempeñado su modelo para hacer predicciones en el conjunto de prueba desconocido. Hay varias métricas para comprobarlo. Sin embargo, el error absoluto medio, el error cuadrático medio y el error cuadrático medio medio son tres de las métricas más comunes.\n",
        "\n",
        "**Error absoluto medio(Mean Absolute Error MAE)**\n",
        "\n",
        "El error absoluto medio (MAE) se calcula tomando el promedio del error absoluto obtenido al restar los valores reales de los valores predichos. La ecuación para calcular MAE es:\n",
        "\n",
        "$$MAE=\\frac{\\Sigma_{i=1}^{n} |y_i-\\hat{y}|}{n} $$\n",
        "\n",
        "**Error medio cuadrado (Mean Squared Error MSE)**\n",
        "\n",
        "El error cuadrático medio (MSE) es similar al MAE. Sin embargo, el error para cada registro se eleva al cuadrado en el caso de MSE para castigar los registros de datos con una gran diferencia entre los valores predichos y reales. La ecuación para calcular el error cuadrático medio es la siguiente:\n",
        "\n",
        "$$MSE=\\frac{1}{2} \\Sigma_{i=1}^{n} (y_i-\\hat{y})^2 $$\n",
        "\n",
        "**Root Mean Squared Error**\n",
        "\n",
        "El error cuadrático medio es simplemente la raíz inferior del error cuadrático medio y se puede calcular de la siguiente manera:\n",
        "\n",
        "$$RMSE=\\sqrt{\\frac{1}{n} \\Sigma_{i=1}^{n} (y_i-\\hat{y})^2  } $$\n",
        "\n",
        "Los métodos utilizados para encontrar el valor de estas métricas están disponibles en la clase `sklearn.metrics`. Los valores predichos y reales deben pasarse a estos métodos, como se muestra en el resultado."
      ]
    },
    {
      "cell_type": "markdown",
      "metadata": {
        "id": "7c1rq9UNkCAd"
      },
      "source": [
        "#### **4.7.1Cálculo de Metrica**"
      ]
    },
    {
      "cell_type": "code",
      "metadata": {
        "id": "V5wbjGcsj0jJ"
      },
      "source": [
        "# evaluating algorithm performance\r\n",
        "from sklearn import metrics\r\n",
        "\r\n",
        "print (\"Mean Absolute Error:\" , metrics.mean_absolute_error(y_test, y_pred))\r\n",
        "print (\"Mean Squared Error:\" , metrics.mean_squared_error(y_test, y_pred))\r\n",
        "print (\"Root Mean Squared Error:\" , np.sqrt(metrics.mean_squared_error(y_test, y_pred)))"
      ],
      "execution_count": null,
      "outputs": []
    },
    {
      "cell_type": "markdown",
      "metadata": {
        "id": "PiAa0pEDKwJ_"
      },
      "source": [
        "El valor de error absoluto medio de 0,70 muestra que el bosque aleatorio funciona mejor que la regresión lineal y KNN para predecir la punta en el conjunto de datos Tips."
      ]
    },
    {
      "cell_type": "markdown",
      "metadata": {
        "id": "NjZWIN_qKwKA"
      },
      "source": [
        "## **5. Support Vector Regresión**\n",
        "\n",
        "La máquina de vectores de soporte es la clasificación y los algoritmos de regresión, que minimizan el error entre las predicciones reales y las predicciones al maximizar la distancia entre hiperplanos que contienen datos para varios registros.\n",
        "\n",
        "**¿Por qué utilizar algoritmos SVR?**\n",
        "\n",
        "La regresión de vectores de soporte es una variante de la máquina de vectores de soporte (SVM) para la regresión. SVM tiene los siguientes usos.\n",
        "\n",
        "1. Se puede utilizar para realizar regresiones o clasificaciones con alta dimensión.\n",
        "2. Con el truco del kernel, SVM es capaz de aplicar regresiones y clasificaciones de conjuntos de datos no lineales.\n",
        "3. Los algoritmos SVM se utilizan comúnmente para la clasificación ordinal o regresión, por eso se conocen comúnmente como algoritmos de clasificación.\n",
        "\n",
        "**Desventajas de los algoritmos SVR**\n",
        "\n",
        "Hay tres desventajas principales de los algoritmos SVR:\n",
        "\n",
        "1. Gran cantidad de parámetros a optimizar para obtener el mejor rendimiento.\n",
        "2. La formación puede llevar mucho tiempo en grandes conjuntos de datos.\n",
        "3. Produce malos resultados si el número de características es mayor que el número de re un conjunto de datos."
      ]
    },
    {
      "cell_type": "markdown",
      "metadata": {
        "id": "uXUdD2qDny1-"
      },
      "source": [
        "### **5.1. Preparación de datos para problemas de regresión.**\r\n",
        "\r\n",
        "Los algoritmos de aprendizaje automático requieren que los datos estén en un formato determinado antes de que los algoritmos puedan entrenarse con los datos. En esta sección, verá varios pasos de preprocesamiento de datos que debe realizar antes de poder entrenar algoritmos de aprendizaje automático utilizando la biblioteca `Sklearn`.\r\n",
        "\r\n",
        "El conjuntos de datos que vamos a utilizar en esta sección están disponibles de forma predeterminada en la biblioteca de `Seaborn`. Para ver todos los conjuntos de datos, puede usar la función `get_dataset_names ()` como se muestra en el siguiente script:"
      ]
    },
    {
      "cell_type": "code",
      "metadata": {
        "id": "P5AnHo7An3wm"
      },
      "source": [
        "import pandas as pd\n",
        "import numpy as np\n",
        "import seaborn as sns\n",
        "sns.get_dataset_names()"
      ],
      "execution_count": null,
      "outputs": []
    },
    {
      "cell_type": "markdown",
      "metadata": {
        "id": "SqE2A5f1n6C7"
      },
      "source": [
        "Para leer un conjunto de datos en particular en el marco de datos de Pandas, pase el nombre del conjunto de datos al método `load_dataset ()` de la biblioteca Seaborn.\n",
        "\n",
        "La siguiente secuencia de comandos carga el conjunto de datos *Tips* y muestra sus primeras cinco filas."
      ]
    },
    {
      "cell_type": "code",
      "metadata": {
        "id": "kEBlRTNbn-vm"
      },
      "source": [
        "tips_df = sns.load_dataset(\"tips\")\n",
        "tips_df.head()"
      ],
      "execution_count": null,
      "outputs": []
    },
    {
      "cell_type": "markdown",
      "metadata": {
        "id": "OEJkzzzIoCp8"
      },
      "source": [
        "En este capítulo, trabajaremos con el conjunto de datos Tips. Usaremos algoritmos de aprendizaje automático para predecir la **Tip** \"propina\" de un registro en particular, en función de las características restantes, como \"factura_total\", \"sexo\", \"día\", \"hora\", etc.\n",
        "\n",
        "### **5.2  División de datos en funciones y etiquetas**\n",
        "\n",
        "Como primer paso, dividimos los datos en conjuntos de características y etiquetas. Nuestro conjunto de etiquetas consta de valores de la columna \"propina\", mientras que el conjunto de características consta de valores de las columnas restantes. El siguiente script divide los datos en conjuntos de características y etiquetas."
      ]
    },
    {
      "cell_type": "code",
      "metadata": {
        "id": "F6dvR8lAoFA8"
      },
      "source": [
        "X = tips_df.drop([\"tip\"], axis=1)\n",
        "y = tips_df[\"tip\"]\n",
        "#visualizamos los datos\n",
        "X.head()"
      ],
      "execution_count": null,
      "outputs": []
    },
    {
      "cell_type": "markdown",
      "metadata": {
        "id": "o-010uM1oJgX"
      },
      "source": [
        "Y el siguiente script imprime el conjunto de etiquetas."
      ]
    },
    {
      "cell_type": "code",
      "metadata": {
        "colab": {
          "base_uri": "https://localhost:8080/"
        },
        "id": "mOxcT53UoLrd",
        "outputId": "0a744819-df21-4167-d5f2-abf4c2e17e0b"
      },
      "source": [
        "y.head()"
      ],
      "execution_count": null,
      "outputs": [
        {
          "output_type": "execute_result",
          "data": {
            "text/plain": [
              "0    1.01\n",
              "1    1.66\n",
              "2    3.50\n",
              "3    3.31\n",
              "4    3.61\n",
              "Name: tip, dtype: float64"
            ]
          },
          "metadata": {
            "tags": []
          },
          "execution_count": 6
        }
      ]
    },
    {
      "cell_type": "markdown",
      "metadata": {
        "id": "aSkDtrYBoN-k"
      },
      "source": [
        "### **5.3. Conversión de datos categóricos en números**\n",
        "\n",
        "Los algoritmos de aprendizaje automático, en su mayor parte, solo pueden funcionar con números. Por lo tanto, es importante convertir los datos categóricos a un formato numérico.\n",
        "\n",
        "En este sentido, el primer paso es crear un conjunto de datos de todos los valores numéricos. Para hacerlo, elimine las columnas categóricas del conjunto de datos, como se muestra a continuación."
      ]
    },
    {
      "cell_type": "code",
      "metadata": {
        "id": "cw_R7xdfoSV8"
      },
      "source": [
        "#Eliminamos las variables categoricas\r\n",
        "numerical = X.drop([\"sex\" , \"smoker\" , \"day\" , \"time\" ], axis = 1)"
      ],
      "execution_count": null,
      "outputs": []
    },
    {
      "cell_type": "markdown",
      "metadata": {
        "id": "Q4gb4QQvoUzp"
      },
      "source": [
        "El resultado a continuación muestra que el marco de datos \"numérico\" contiene sólo columnas numéricas."
      ]
    },
    {
      "cell_type": "code",
      "metadata": {
        "colab": {
          "base_uri": "https://localhost:8080/"
        },
        "id": "ftljV4-3oXDV",
        "outputId": "62f2626d-5978-447c-93cb-2b82b916cd7c"
      },
      "source": [
        "#Solo tenemos las variables numéricas\r\n",
        "numerical.head()"
      ],
      "execution_count": null,
      "outputs": [
        {
          "output_type": "execute_result",
          "data": {
            "text/html": [
              "<div>\n",
              "<style scoped>\n",
              "    .dataframe tbody tr th:only-of-type {\n",
              "        vertical-align: middle;\n",
              "    }\n",
              "\n",
              "    .dataframe tbody tr th {\n",
              "        vertical-align: top;\n",
              "    }\n",
              "\n",
              "    .dataframe thead th {\n",
              "        text-align: right;\n",
              "    }\n",
              "</style>\n",
              "<table border=\"1\" class=\"dataframe\">\n",
              "  <thead>\n",
              "    <tr style=\"text-align: right;\">\n",
              "      <th></th>\n",
              "      <th>total_bill</th>\n",
              "      <th>size</th>\n",
              "    </tr>\n",
              "  </thead>\n",
              "  <tbody>\n",
              "    <tr>\n",
              "      <th>0</th>\n",
              "      <td>16.99</td>\n",
              "      <td>2</td>\n",
              "    </tr>\n",
              "    <tr>\n",
              "      <th>1</th>\n",
              "      <td>10.34</td>\n",
              "      <td>3</td>\n",
              "    </tr>\n",
              "    <tr>\n",
              "      <th>2</th>\n",
              "      <td>21.01</td>\n",
              "      <td>3</td>\n",
              "    </tr>\n",
              "    <tr>\n",
              "      <th>3</th>\n",
              "      <td>23.68</td>\n",
              "      <td>2</td>\n",
              "    </tr>\n",
              "    <tr>\n",
              "      <th>4</th>\n",
              "      <td>24.59</td>\n",
              "      <td>4</td>\n",
              "    </tr>\n",
              "  </tbody>\n",
              "</table>\n",
              "</div>"
            ],
            "text/plain": [
              "   total_bill  size\n",
              "0       16.99     2\n",
              "1       10.34     3\n",
              "2       21.01     3\n",
              "3       23.68     2\n",
              "4       24.59     4"
            ]
          },
          "metadata": {
            "tags": []
          },
          "execution_count": 8
        }
      ]
    },
    {
      "cell_type": "markdown",
      "metadata": {
        "id": "pF4pcedtobuf"
      },
      "source": [
        "A continuación, debe crear un marco de datos que contenga solo columnas categóricas."
      ]
    },
    {
      "cell_type": "code",
      "metadata": {
        "colab": {
          "base_uri": "https://localhost:8080/"
        },
        "id": "21zIFSW3oeER",
        "outputId": "ae4f9581-33a6-4d1f-959b-5409d57f6f95"
      },
      "source": [
        "#Guardamos las variables categorica en una variable que se llama categorica\n",
        "categorical = X.filter([\"sex\" , \"smoker\" , \"day\" , \"time\" ])\n",
        "categorical.head()"
      ],
      "execution_count": null,
      "outputs": [
        {
          "output_type": "execute_result",
          "data": {
            "text/html": [
              "<div>\n",
              "<style scoped>\n",
              "    .dataframe tbody tr th:only-of-type {\n",
              "        vertical-align: middle;\n",
              "    }\n",
              "\n",
              "    .dataframe tbody tr th {\n",
              "        vertical-align: top;\n",
              "    }\n",
              "\n",
              "    .dataframe thead th {\n",
              "        text-align: right;\n",
              "    }\n",
              "</style>\n",
              "<table border=\"1\" class=\"dataframe\">\n",
              "  <thead>\n",
              "    <tr style=\"text-align: right;\">\n",
              "      <th></th>\n",
              "      <th>sex</th>\n",
              "      <th>smoker</th>\n",
              "      <th>day</th>\n",
              "      <th>time</th>\n",
              "    </tr>\n",
              "  </thead>\n",
              "  <tbody>\n",
              "    <tr>\n",
              "      <th>0</th>\n",
              "      <td>Female</td>\n",
              "      <td>No</td>\n",
              "      <td>Sun</td>\n",
              "      <td>Dinner</td>\n",
              "    </tr>\n",
              "    <tr>\n",
              "      <th>1</th>\n",
              "      <td>Male</td>\n",
              "      <td>No</td>\n",
              "      <td>Sun</td>\n",
              "      <td>Dinner</td>\n",
              "    </tr>\n",
              "    <tr>\n",
              "      <th>2</th>\n",
              "      <td>Male</td>\n",
              "      <td>No</td>\n",
              "      <td>Sun</td>\n",
              "      <td>Dinner</td>\n",
              "    </tr>\n",
              "    <tr>\n",
              "      <th>3</th>\n",
              "      <td>Male</td>\n",
              "      <td>No</td>\n",
              "      <td>Sun</td>\n",
              "      <td>Dinner</td>\n",
              "    </tr>\n",
              "    <tr>\n",
              "      <th>4</th>\n",
              "      <td>Female</td>\n",
              "      <td>No</td>\n",
              "      <td>Sun</td>\n",
              "      <td>Dinner</td>\n",
              "    </tr>\n",
              "  </tbody>\n",
              "</table>\n",
              "</div>"
            ],
            "text/plain": [
              "      sex smoker  day    time\n",
              "0  Female     No  Sun  Dinner\n",
              "1    Male     No  Sun  Dinner\n",
              "2    Male     No  Sun  Dinner\n",
              "3    Male     No  Sun  Dinner\n",
              "4  Female     No  Sun  Dinner"
            ]
          },
          "metadata": {
            "tags": []
          },
          "execution_count": 9
        }
      ]
    },
    {
      "cell_type": "markdown",
      "metadata": {
        "id": "Hjk4dZqJohQr"
      },
      "source": [
        "Uno de los enfoques más comunes para convertir una columna categórica en una numérica es mediante la codificación **one-hot**. En la codificación one-hot, para cada valor único en las columnas originales, se crea una nueva columna. Por ejemplo, para el sexo, se crean dos columnas: Femenino y Masculino. Si la columna de sexo original contenía hombre, se agrega un 1 en la columna Hombre recién creada, y se agrega 0 si es mujer.\n",
        "\n",
        "Sin embargo, se puede observar que realmente no necesitamos dos columnas. Una sola columna, es decir, Mujer es suficiente, ya que cuando un cliente es mujer, podemos agregar 1 en la columna Mujer, de lo contrario, se puede agregar 1 en esa columna. Por lo tanto, necesitamos N-1 columnas codificadas en caliente para todos los N valores en la columna original.\n",
        "\n",
        "El siguiente script convierte columnas categóricas en columnas codificadas en un solo uso utilizando el método `pd.get_dummies ()`."
      ]
    },
    {
      "cell_type": "code",
      "metadata": {
        "colab": {
          "base_uri": "https://localhost:8080/"
        },
        "id": "KEFyYgVJomH8",
        "outputId": "199b9d41-da13-4f20-ca83-d18c71ab3030"
      },
      "source": [
        "import pandas as pd\n",
        "cat_numerical = pd.get_dummies(categorical,drop_first=True)\n",
        "cat_numerical.head()"
      ],
      "execution_count": null,
      "outputs": [
        {
          "output_type": "execute_result",
          "data": {
            "text/html": [
              "<div>\n",
              "<style scoped>\n",
              "    .dataframe tbody tr th:only-of-type {\n",
              "        vertical-align: middle;\n",
              "    }\n",
              "\n",
              "    .dataframe tbody tr th {\n",
              "        vertical-align: top;\n",
              "    }\n",
              "\n",
              "    .dataframe thead th {\n",
              "        text-align: right;\n",
              "    }\n",
              "</style>\n",
              "<table border=\"1\" class=\"dataframe\">\n",
              "  <thead>\n",
              "    <tr style=\"text-align: right;\">\n",
              "      <th></th>\n",
              "      <th>sex_Female</th>\n",
              "      <th>smoker_No</th>\n",
              "      <th>day_Fri</th>\n",
              "      <th>day_Sat</th>\n",
              "      <th>day_Sun</th>\n",
              "      <th>time_Dinner</th>\n",
              "    </tr>\n",
              "  </thead>\n",
              "  <tbody>\n",
              "    <tr>\n",
              "      <th>0</th>\n",
              "      <td>1</td>\n",
              "      <td>1</td>\n",
              "      <td>0</td>\n",
              "      <td>0</td>\n",
              "      <td>1</td>\n",
              "      <td>1</td>\n",
              "    </tr>\n",
              "    <tr>\n",
              "      <th>1</th>\n",
              "      <td>0</td>\n",
              "      <td>1</td>\n",
              "      <td>0</td>\n",
              "      <td>0</td>\n",
              "      <td>1</td>\n",
              "      <td>1</td>\n",
              "    </tr>\n",
              "    <tr>\n",
              "      <th>2</th>\n",
              "      <td>0</td>\n",
              "      <td>1</td>\n",
              "      <td>0</td>\n",
              "      <td>0</td>\n",
              "      <td>1</td>\n",
              "      <td>1</td>\n",
              "    </tr>\n",
              "    <tr>\n",
              "      <th>3</th>\n",
              "      <td>0</td>\n",
              "      <td>1</td>\n",
              "      <td>0</td>\n",
              "      <td>0</td>\n",
              "      <td>1</td>\n",
              "      <td>1</td>\n",
              "    </tr>\n",
              "    <tr>\n",
              "      <th>4</th>\n",
              "      <td>1</td>\n",
              "      <td>1</td>\n",
              "      <td>0</td>\n",
              "      <td>0</td>\n",
              "      <td>1</td>\n",
              "      <td>1</td>\n",
              "    </tr>\n",
              "  </tbody>\n",
              "</table>\n",
              "</div>"
            ],
            "text/plain": [
              "   sex_Female  smoker_No  day_Fri  day_Sat  day_Sun  time_Dinner\n",
              "0           1          1        0        0        1            1\n",
              "1           0          1        0        0        1            1\n",
              "2           0          1        0        0        1            1\n",
              "3           0          1        0        0        1            1\n",
              "4           1          1        0        0        1            1"
            ]
          },
          "metadata": {
            "tags": []
          },
          "execution_count": 10
        }
      ]
    },
    {
      "cell_type": "markdown",
      "metadata": {
        "id": "9XCbVJPEooqh"
      },
      "source": [
        "La salida muestra las columnas codificadas **one-hot** recién creadas.\n",
        "\n",
        "El paso final es unir las columnas numéricas con las columnas codificadas en caliente. Para hacerlo, puede usar la función `concat ()` de la biblioteca Pandas como se muestra a continuación:"
      ]
    },
    {
      "cell_type": "code",
      "metadata": {
        "colab": {
          "base_uri": "https://localhost:8080/"
        },
        "id": "5AOjyxcrosqL",
        "outputId": "784d8bc1-1915-4449-9f67-3a853e0f049f"
      },
      "source": [
        "X = pd.concat([numerical, cat_numerical], axis = 1)\n",
        "X.head()"
      ],
      "execution_count": null,
      "outputs": [
        {
          "output_type": "execute_result",
          "data": {
            "text/html": [
              "<div>\n",
              "<style scoped>\n",
              "    .dataframe tbody tr th:only-of-type {\n",
              "        vertical-align: middle;\n",
              "    }\n",
              "\n",
              "    .dataframe tbody tr th {\n",
              "        vertical-align: top;\n",
              "    }\n",
              "\n",
              "    .dataframe thead th {\n",
              "        text-align: right;\n",
              "    }\n",
              "</style>\n",
              "<table border=\"1\" class=\"dataframe\">\n",
              "  <thead>\n",
              "    <tr style=\"text-align: right;\">\n",
              "      <th></th>\n",
              "      <th>total_bill</th>\n",
              "      <th>size</th>\n",
              "      <th>sex_Female</th>\n",
              "      <th>smoker_No</th>\n",
              "      <th>day_Fri</th>\n",
              "      <th>day_Sat</th>\n",
              "      <th>day_Sun</th>\n",
              "      <th>time_Dinner</th>\n",
              "    </tr>\n",
              "  </thead>\n",
              "  <tbody>\n",
              "    <tr>\n",
              "      <th>0</th>\n",
              "      <td>16.99</td>\n",
              "      <td>2</td>\n",
              "      <td>1</td>\n",
              "      <td>1</td>\n",
              "      <td>0</td>\n",
              "      <td>0</td>\n",
              "      <td>1</td>\n",
              "      <td>1</td>\n",
              "    </tr>\n",
              "    <tr>\n",
              "      <th>1</th>\n",
              "      <td>10.34</td>\n",
              "      <td>3</td>\n",
              "      <td>0</td>\n",
              "      <td>1</td>\n",
              "      <td>0</td>\n",
              "      <td>0</td>\n",
              "      <td>1</td>\n",
              "      <td>1</td>\n",
              "    </tr>\n",
              "    <tr>\n",
              "      <th>2</th>\n",
              "      <td>21.01</td>\n",
              "      <td>3</td>\n",
              "      <td>0</td>\n",
              "      <td>1</td>\n",
              "      <td>0</td>\n",
              "      <td>0</td>\n",
              "      <td>1</td>\n",
              "      <td>1</td>\n",
              "    </tr>\n",
              "    <tr>\n",
              "      <th>3</th>\n",
              "      <td>23.68</td>\n",
              "      <td>2</td>\n",
              "      <td>0</td>\n",
              "      <td>1</td>\n",
              "      <td>0</td>\n",
              "      <td>0</td>\n",
              "      <td>1</td>\n",
              "      <td>1</td>\n",
              "    </tr>\n",
              "    <tr>\n",
              "      <th>4</th>\n",
              "      <td>24.59</td>\n",
              "      <td>4</td>\n",
              "      <td>1</td>\n",
              "      <td>1</td>\n",
              "      <td>0</td>\n",
              "      <td>0</td>\n",
              "      <td>1</td>\n",
              "      <td>1</td>\n",
              "    </tr>\n",
              "  </tbody>\n",
              "</table>\n",
              "</div>"
            ],
            "text/plain": [
              "   total_bill  size  sex_Female  ...  day_Sat  day_Sun  time_Dinner\n",
              "0       16.99     2           1  ...        0        1            1\n",
              "1       10.34     3           0  ...        0        1            1\n",
              "2       21.01     3           0  ...        0        1            1\n",
              "3       23.68     2           0  ...        0        1            1\n",
              "4       24.59     4           1  ...        0        1            1\n",
              "\n",
              "[5 rows x 8 columns]"
            ]
          },
          "metadata": {
            "tags": []
          },
          "execution_count": 11
        }
      ]
    },
    {
      "cell_type": "markdown",
      "metadata": {
        "id": "S17XSFuqovJx"
      },
      "source": [
        "### **5.4. Divida los datos en conjuntos de prueba y entrenamiento**\n",
        "\n",
        "Después de entrenar un algoritmo de aprendizaje automático, debe evaluarlo para ver qué tan bien funciona con datos invisibles. Por lo tanto, dividimos el conjunto de datos en dos conjuntos, es decir, un conjunto de entrenamiento y un conjunto de prueba. El conjunto de datos se entrena a través del conjunto de entrenamiento y se evalúa en el conjunto de prueba. Para dividir los datos en conjuntos de entrenamiento y prueba, puede usar la función `train_test_split ()` de la biblioteca Sklearn, como se muestra a continuación. El seguimiento El script divide los datos en un conjunto de entrenamiento del 80 por ciento y un conjunto de prueba del 20 por ciento."
      ]
    },
    {
      "cell_type": "code",
      "metadata": {
        "id": "wdK6IIjhozTp"
      },
      "source": [
        "from sklearn.model_selection import train_test_split\n",
        "X_train, X_test, y_train, y_test = train_test_split(X, y, test_size=0.20, random_state=0)"
      ],
      "execution_count": null,
      "outputs": []
    },
    {
      "cell_type": "markdown",
      "metadata": {
        "id": "U_XLc291o1Zv"
      },
      "source": [
        "### **5.5. Escalado / normalización de datos**\n",
        "\n",
        "El paso final (opcional) antes de que los datos se pasen a los algoritmos de aprendizaje automático es escalar los datos. Puede ver que algunas columnas del conjunto de datos contienen valores pequeños, mientras que otras contienen valores muy grandes. Es mejor convertir todos los valores a una escala uniforme. Para hacerlo, puede usar la función `StandardScaler ()` del módulo `sklearn.preprocessing`, como se muestra a continuación:"
      ]
    },
    {
      "cell_type": "code",
      "metadata": {
        "id": "XRGcOChMo3sM"
      },
      "source": [
        "from sklearn.preprocessing import StandardScaler\n",
        "sc = StandardScaler()\n",
        "#scaling the training set\n",
        "X_train = sc.fit_transform(X_train)\n",
        "#scaling the test set\n",
        "X_test = sc.transform (X_test)"
      ],
      "execution_count": null,
      "outputs": []
    },
    {
      "cell_type": "markdown",
      "metadata": {
        "id": "lorMvQ41o7Ig"
      },
      "source": [
        "Hemos convertido los datos a un formato que se puede utilizar para entrenar algoritmos de aprendizaje automático para la regresión desde la biblioteca de Sklearn. Los detalles, incluidas las funcionalidades y el uso de todos los algoritmos de aprendizaje automático."
      ]
    },
    {
      "cell_type": "markdown",
      "metadata": {
        "id": "uYJe9_d0mhDV"
      },
      "source": [
        "### **5.6 Implementación de SVR con Sklearn**\r\n",
        "\r\n",
        "Con la biblioteca Sklearn, puede usar la clase SVM para implementar algoritmos de regresión vectorial de soporte, como se muestra a continuación."
      ]
    },
    {
      "cell_type": "code",
      "metadata": {
        "id": "CrspJB5AKwKB",
        "colab": {
          "base_uri": "https://localhost:8080/"
        },
        "outputId": "1bc88df9-f951-4f03-fef1-7047df5b4251"
      },
      "source": [
        "# training and testing the SVM\n",
        "\n",
        "from sklearn import svm\n",
        "svm_reg = svm.SVR()\n",
        "\n",
        "regressor = svm_reg.fit(X_train, y_train)\n",
        "y_pred = regressor.predict(X_test)"
      ],
      "execution_count": null,
      "outputs": [
        {
          "output_type": "stream",
          "text": [
            "Mean Absolute Error: 0.7362521512772694\n",
            "Mean Squared Error: 0.9684825097223093\n",
            "Root Mean Squared Error: 0.9841150896731079\n"
          ],
          "name": "stdout"
        }
      ]
    },
    {
      "cell_type": "markdown",
      "metadata": {
        "id": "E2z9QMifnB-N"
      },
      "source": [
        "### **5.7 Tipos de Metricas**"
      ]
    },
    {
      "cell_type": "markdown",
      "metadata": {
        "id": "LBbBPXDNnK-k"
      },
      "source": [
        "Una vez que haya entrenado un modelo y haya hecho predicciones en el conjunto de prueba, el siguiente paso es saber qué tan bien se ha desempeñado su modelo para hacer predicciones en el conjunto de prueba desconocido. Hay varias métricas para comprobarlo. Sin embargo, el error absoluto medio, el error cuadrático medio y el error cuadrático medio medio son tres de las métricas más comunes.\n",
        "\n",
        "**Error absoluto medio(Mean Absolute Error MAE)**\n",
        "\n",
        "El error absoluto medio (MAE) se calcula tomando el promedio del error absoluto obtenido al restar los valores reales de los valores predichos. La ecuación para calcular MAE es:\n",
        "\n",
        "$$MAE=\\frac{\\Sigma_{i=1}^{n} |y_i-\\hat{y}|}{n} $$\n",
        "\n",
        "**Error medio cuadrado (Mean Squared Error MSE)**\n",
        "\n",
        "El error cuadrático medio (MSE) es similar al MAE. Sin embargo, el error para cada registro se eleva al cuadrado en el caso de MSE para castigar los registros de datos con una gran diferencia entre los valores predichos y reales. La ecuación para calcular el error cuadrático medio es la siguiente:\n",
        "\n",
        "$$MSE=\\frac{1}{2} \\Sigma_{i=1}^{n} (y_i-\\hat{y})^2 $$\n",
        "\n",
        "**Root Mean Squared Error**\n",
        "\n",
        "El error cuadrático medio es simplemente la raíz inferior del error cuadrático medio y se puede calcular de la siguiente manera:\n",
        "\n",
        "$$RMSE=\\sqrt{\\frac{1}{n} \\Sigma_{i=1}^{n} (y_i-\\hat{y})^2  } $$\n",
        "\n",
        "Los métodos utilizados para encontrar el valor de estas métricas están disponibles en la clase `sklearn.metrics`. Los valores predichos y reales deben pasarse a estos métodos, como se muestra en el resultado."
      ]
    },
    {
      "cell_type": "markdown",
      "metadata": {
        "id": "hp5aFamunM28"
      },
      "source": [
        "#### **5.7.1 Cálculo de Metrica**"
      ]
    },
    {
      "cell_type": "code",
      "metadata": {
        "id": "gAPyQK7hm14Z"
      },
      "source": [
        "from sklearn import metrics\r\n",
        "\r\n",
        "print (\"Mean Absolute Error:\" , metrics.mean_absolute_error(y_test, y_pred))\r\n",
        "print (\"Mean Squared Error:\" , metrics.mean_squared_error(y_test, y_pred))\r\n",
        "print (\"Root Mean Squared Error:\" , np.sqrt(metrics.mean_squared_error(y_test, y_pred)))"
      ],
      "execution_count": null,
      "outputs": []
    },
    {
      "cell_type": "markdown",
      "metadata": {
        "id": "_d-xu5c2pak-"
      },
      "source": [
        "**¿Qué modelo usar?**\r\n",
        "\r\n",
        "Los resultados obtenidos de las secciones 1 a 5 muestran que los algoritmos del regresor de bosque aleatorio dan como resultado los valores mínimos de MAE, MSE y RMSE. El algoritmo que elija utilizar depende totalmente de su conjunto de datos y métricas de evaluación. Algunos algoritmos funcionan mejor en un conjunto de datos, mientras que otros algoritmos funcionan mejor en el otro conjunto de datos. Es mejor que uses todos los algoritmos para ver cuál da los mejores resultados. Sin embargo, si tiene opciones limitadas, es mejor comenzar con algoritmos de aprendizaje por conjuntos como Random Forest. Dan el mejor resultado."
      ]
    },
    {
      "cell_type": "markdown",
      "metadata": {
        "id": "sDeY4hCTKwKC"
      },
      "source": [
        "##  **6. K Fold Cross-Validation**\n",
        "\n",
        "Anteriormente, dividimos los datos en un conjunto de entrenamiento del 80 por ciento y un conjunto de prueba del 20 por ciento. Sin embargo, significa que solo el 20 por ciento de los datos se usa para pruebas y que el 20 por ciento de los datos nunca se usa para entrenamiento.\n",
        "\n",
        "Para obtener resultados más estables, se recomienda que todas las partes del conjunto de datos se utilicen al menos una vez para el entrenamiento y una vez para las pruebas. Para ello, se puede utilizar la técnica de validación cruzada de K-Fold. Con la validación cruzada de K-fold, los datos se dividen en K partes. Los experimentos también se realizan para K partes. En cada experimento, las partes K-1 se utilizan para el entrenamiento y la parte Kth se utiliza para las pruebas.\n",
        "\n",
        "Por ejemplo, en la validación cruzada de 5 veces, los datos se dividen en cinco partes iguales, por ejemplo, K1, K2, K3, K4 y K5. En la primera iteración, K1 – K4 se usan para entrenamiento, mientras que K5 se usa para pruebas. En la segunda prueba, K1, K2, K3 y K5 se utilizan para el entrenamiento y K4 para las pruebas. De esta manera, cada parte se usa al menos una vez para probar y una vez para entrenamiento.\n",
        "\n",
        "Puede usar la función `cross_val_score ()` de `sklearn`. módulo model_selection para realizar la validación cruzada como se muestra a continuación:"
      ]
    },
    {
      "cell_type": "code",
      "metadata": {
        "id": "hB6ndWKkKwKD",
        "colab": {
          "base_uri": "https://localhost:8080/"
        },
        "outputId": "c4c57a66-9c92-46b8-d8db-5436519be1db"
      },
      "source": [
        "from sklearn.model_selection import cross_val_score\n",
        "print (cross_val_score(regressor, X, y, cv=5, scoring =\"neg_mean_absolute_error\" ))"
      ],
      "execution_count": null,
      "outputs": [
        {
          "output_type": "stream",
          "text": [
            "[-0.66386205 -0.57007269 -0.63598762 -0.96960743 -0.87391702]\n"
          ],
          "name": "stdout"
        }
      ]
    },
    {
      "cell_type": "markdown",
      "metadata": {
        "id": "qbIJOZhfKwKJ"
      },
      "source": [
        "La salida muestra el valor absoluto medio para cada uno de los K pliegues.\n",
        "\n",
        "## **7. Hacer predicciones en un solo registro**\n",
        "\n",
        "En las secciones anteriores, vio cómo hacer predicciones en un conjunto de prueba completo. En esta sección, verá cómo hacer una predicción utilizando un solo registro como entrada.\n",
        "\n",
        "Escojamos el registro número 100 de nuestro conjunto de datos."
      ]
    },
    {
      "cell_type": "code",
      "metadata": {
        "id": "MeFuEEPCKwKJ",
        "colab": {
          "base_uri": "https://localhost:8080/"
        },
        "outputId": "02f459c3-eb0c-4493-8870-90973d5fa15b"
      },
      "source": [
        "tips_df.loc[100]"
      ],
      "execution_count": null,
      "outputs": [
        {
          "output_type": "execute_result",
          "data": {
            "text/plain": [
              "total_bill     11.35\n",
              "tip              2.5\n",
              "sex           Female\n",
              "smoker           Yes\n",
              "day              Fri\n",
              "time          Dinner\n",
              "size               2\n",
              "Name: 100, dtype: object"
            ]
          },
          "metadata": {
            "tags": []
          },
          "execution_count": 24
        }
      ]
    },
    {
      "cell_type": "markdown",
      "metadata": {
        "id": "1CEuD5qDKwKK"
      },
      "source": [
        "El resultado muestra que el valor de la propina en el registro número 100 de nuestro conjunto de datos es 2,5.\n",
        "\n",
        "Intentaremos predecir el valor de la punta del registro 100 utilizando el algoritmo regresor de bosque aleatorio y veremos qué resultado obtenemos. \n",
        "\n",
        "Tenga en cuenta que debe escalar su registro único antes de que se pueda usar como entrada para su algoritmo de aprendizaje automático."
      ]
    },
    {
      "cell_type": "code",
      "metadata": {
        "id": "qGZgSU9wKwKK",
        "colab": {
          "base_uri": "https://localhost:8080/"
        },
        "outputId": "548a1742-4d54-4a86-ce5a-d029f25a0fb3"
      },
      "source": [
        "from sklearn.ensemble import RandomForestRegressor\n",
        "rf_reg = RandomForestRegressor(random_state=42, n_estimators=500)\n",
        "regressor = rf_reg.fit(X_train, y_train)\n",
        "\n",
        "single_record = sc.transform (X.values[100].reshape(1, -1))\n",
        "predicted_tip = regressor.predict(single_record)\n",
        "print (predicted_tip)"
      ],
      "execution_count": null,
      "outputs": [
        {
          "output_type": "stream",
          "text": [
            "[2.2609]\n"
          ],
          "name": "stdout"
        }
      ]
    },
    {
      "cell_type": "markdown",
      "metadata": {
        "id": "_uqMY-rWKwKL"
      },
      "source": [
        "El valor previsto de la propina es 2,26, que está bastante cerca de 2,5, es decir, el valor real."
      ]
    }
  ]
}